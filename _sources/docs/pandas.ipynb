{
 "cells": [
  {
   "cell_type": "markdown",
   "metadata": {},
   "source": [
    "(pd)=\n",
    "\n",
    "# Pandas\n",
    "\n",
    "In addition to what's in Anaconda, this lecture will need the following\n",
    "libraries:"
   ]
  },
  {
   "cell_type": "code",
   "execution_count": 1,
   "metadata": {
    "tags": [
     "remove-output"
    ]
   },
   "outputs": [
    {
     "name": "stdout",
     "output_type": "stream",
     "text": [
      "Requirement already up-to-date: pandas-datareader in /home/choldgraf/anaconda/envs/dev/lib/python3.8/site-packages (0.8.1)\n",
      "Requirement already satisfied, skipping upgrade: lxml in /home/choldgraf/anaconda/envs/dev/lib/python3.8/site-packages (from pandas-datareader) (4.5.0)\n",
      "Requirement already satisfied, skipping upgrade: pandas>=0.21 in /home/choldgraf/anaconda/envs/dev/lib/python3.8/site-packages (from pandas-datareader) (1.0.1)\n",
      "Requirement already satisfied, skipping upgrade: requests>=2.3.0 in /home/choldgraf/anaconda/envs/dev/lib/python3.8/site-packages (from pandas-datareader) (2.23.0)\n",
      "Requirement already satisfied, skipping upgrade: pytz>=2017.2 in /home/choldgraf/anaconda/envs/dev/lib/python3.8/site-packages (from pandas>=0.21->pandas-datareader) (2019.3)\n",
      "Requirement already satisfied, skipping upgrade: numpy>=1.13.3 in /home/choldgraf/anaconda/envs/dev/lib/python3.8/site-packages (from pandas>=0.21->pandas-datareader) (1.18.1)\n",
      "Requirement already satisfied, skipping upgrade: python-dateutil>=2.6.1 in /home/choldgraf/anaconda/envs/dev/lib/python3.8/site-packages (from pandas>=0.21->pandas-datareader) (2.8.1)\n",
      "Requirement already satisfied, skipping upgrade: chardet<4,>=3.0.2 in /home/choldgraf/anaconda/envs/dev/lib/python3.8/site-packages (from requests>=2.3.0->pandas-datareader) (3.0.4)\n",
      "Requirement already satisfied, skipping upgrade: idna<3,>=2.5 in /home/choldgraf/anaconda/envs/dev/lib/python3.8/site-packages (from requests>=2.3.0->pandas-datareader) (2.9)\n",
      "Requirement already satisfied, skipping upgrade: urllib3!=1.25.0,!=1.25.1,<1.26,>=1.21.1 in /home/choldgraf/anaconda/envs/dev/lib/python3.8/site-packages (from requests>=2.3.0->pandas-datareader) (1.25.8)\n",
      "Requirement already satisfied, skipping upgrade: certifi>=2017.4.17 in /home/choldgraf/anaconda/envs/dev/lib/python3.8/site-packages (from requests>=2.3.0->pandas-datareader) (2020.4.5.1)\n",
      "Requirement already satisfied, skipping upgrade: six>=1.5 in /home/choldgraf/anaconda/envs/dev/lib/python3.8/site-packages (from python-dateutil>=2.6.1->pandas>=0.21->pandas-datareader) (1.14.0)\n"
     ]
    }
   ],
   "source": [
    "!pip install --upgrade pandas-datareader"
   ]
  },
  {
   "cell_type": "markdown",
   "metadata": {},
   "source": [
    "## Overview\n",
    "\n",
    "[Pandas](http://pandas.pydata.org/) is a package of fast, efficient data\n",
    "analysis tools for Python.\n",
    "\n",
    "Its popularity has surged in recent years, coincident with the rise of\n",
    "fields such as data science and machine learning.\n",
    "\n",
    "Here\\'s a popularity comparison over time against STATA, SAS, and\n",
    "[dplyr](https://dplyr.tidyverse.org/) courtesy of Stack Overflow Trends\n",
    "\n",
    "```{figure} /_static/lecture_specific/pandas/pandas_vs_rest.png\n",
    ":scale: 23%\n",
    "```\n",
    "\n",
    "Just as [NumPy](http://www.numpy.org/) provides the basic array data\n",
    "type plus core array operations, pandas\n",
    "\n",
    "1.  defines fundamental structures for working with data and\n",
    "2.  endows them with methods that facilitate operations such as\n",
    "  -   reading in data\n",
    "  -   adjusting indices\n",
    "  -   working with dates and time series\n",
    "  -   sorting, grouping, re-ordering and general data munging[^1]\n",
    "  -   dealing with missing values, etc., etc.\n",
    "\n",
    "More sophisticated statistical functionality is left to other packages,\n",
    "such as [statsmodels](http://www.statsmodels.org/) and\n",
    "[scikit-learn](http://scikit-learn.org/), which are built on top of\n",
    "pandas.\n",
    "\n",
    "This lecture will provide a basic introduction to pandas.\n",
    "\n",
    "Throughout the lecture, we will assume that the following imports have\n",
    "taken place"
   ]
  },
  {
   "cell_type": "code",
   "execution_count": 2,
   "metadata": {},
   "outputs": [],
   "source": [
    "import pandas as pd\n",
    "import numpy as np\n",
    "import matplotlib.pyplot as plt\n",
    "%matplotlib inline\n",
    "import requests"
   ]
  },
  {
   "cell_type": "markdown",
   "metadata": {},
   "source": [
    "## Series\n",
    "\n",
    "Two important data types defined by pandas are `Series` and `DataFrame`.\n",
    "\n",
    "You can think of a `Series` as a \\\"column\\\" of data, such as a\n",
    "collection of observations on a single variable.\n",
    "\n",
    "A `DataFrame` is an object for storing related columns of data.\n",
    "\n",
    "Let\\'s start with `Series`"
   ]
  },
  {
   "cell_type": "code",
   "execution_count": 3,
   "metadata": {},
   "outputs": [
    {
     "data": {
      "text/plain": [
       "0    1.035731\n",
       "1   -0.630825\n",
       "2    0.496453\n",
       "3    0.816558\n",
       "Name: daily returns, dtype: float64"
      ]
     },
     "execution_count": 3,
     "metadata": {},
     "output_type": "execute_result"
    }
   ],
   "source": [
    "s = pd.Series(np.random.randn(4), name='daily returns')\n",
    "s"
   ]
  },
  {
   "cell_type": "markdown",
   "metadata": {},
   "source": [
    "Here you can imagine the indices `0, 1, 2, 3` as indexing four listed\n",
    "companies, and the values being daily returns on their shares.\n",
    "\n",
    "Pandas `Series` are built on top of NumPy arrays and support many\n",
    "similar operations"
   ]
  },
  {
   "cell_type": "code",
   "execution_count": 4,
   "metadata": {},
   "outputs": [
    {
     "data": {
      "text/plain": [
       "0    103.573139\n",
       "1    -63.082478\n",
       "2     49.645326\n",
       "3     81.655818\n",
       "Name: daily returns, dtype: float64"
      ]
     },
     "execution_count": 4,
     "metadata": {},
     "output_type": "execute_result"
    }
   ],
   "source": [
    "s * 100"
   ]
  },
  {
   "cell_type": "code",
   "execution_count": 5,
   "metadata": {},
   "outputs": [
    {
     "data": {
      "text/plain": [
       "0    1.035731\n",
       "1    0.630825\n",
       "2    0.496453\n",
       "3    0.816558\n",
       "Name: daily returns, dtype: float64"
      ]
     },
     "execution_count": 5,
     "metadata": {},
     "output_type": "execute_result"
    }
   ],
   "source": [
    "np.abs(s)"
   ]
  },
  {
   "cell_type": "markdown",
   "metadata": {},
   "source": [
    "But `Series` provide more than NumPy arrays.\n",
    "\n",
    "Not only do they have some additional (statistically oriented) methods"
   ]
  },
  {
   "cell_type": "code",
   "execution_count": 6,
   "metadata": {},
   "outputs": [
    {
     "data": {
      "text/plain": [
       "count    4.000000\n",
       "mean     0.429480\n",
       "std      0.740743\n",
       "min     -0.630825\n",
       "25%      0.214634\n",
       "50%      0.656506\n",
       "75%      0.871351\n",
       "max      1.035731\n",
       "Name: daily returns, dtype: float64"
      ]
     },
     "execution_count": 6,
     "metadata": {},
     "output_type": "execute_result"
    }
   ],
   "source": [
    "s.describe()"
   ]
  },
  {
   "cell_type": "markdown",
   "metadata": {},
   "source": [
    "But their indices are more flexible"
   ]
  },
  {
   "cell_type": "code",
   "execution_count": 7,
   "metadata": {},
   "outputs": [
    {
     "data": {
      "text/plain": [
       "AMZN    1.035731\n",
       "AAPL   -0.630825\n",
       "MSFT    0.496453\n",
       "GOOG    0.816558\n",
       "Name: daily returns, dtype: float64"
      ]
     },
     "execution_count": 7,
     "metadata": {},
     "output_type": "execute_result"
    }
   ],
   "source": [
    "s.index = ['AMZN', 'AAPL', 'MSFT', 'GOOG']\n",
    "s"
   ]
  },
  {
   "cell_type": "markdown",
   "metadata": {},
   "source": [
    "Viewed in this way, `Series` are like fast, efficient Python\n",
    "dictionaries (with the restriction that the items in the dictionary all\n",
    "have the same type---in this case, floats).\n",
    "\n",
    "In fact, you can use much of the same syntax as Python dictionaries"
   ]
  },
  {
   "cell_type": "code",
   "execution_count": 8,
   "metadata": {},
   "outputs": [
    {
     "data": {
      "text/plain": [
       "1.0357313893674258"
      ]
     },
     "execution_count": 8,
     "metadata": {},
     "output_type": "execute_result"
    }
   ],
   "source": [
    "s['AMZN']"
   ]
  },
  {
   "cell_type": "code",
   "execution_count": 9,
   "metadata": {},
   "outputs": [
    {
     "data": {
      "text/plain": [
       "AMZN    0.000000\n",
       "AAPL   -0.630825\n",
       "MSFT    0.496453\n",
       "GOOG    0.816558\n",
       "Name: daily returns, dtype: float64"
      ]
     },
     "execution_count": 9,
     "metadata": {},
     "output_type": "execute_result"
    }
   ],
   "source": [
    "s['AMZN'] = 0\n",
    "s"
   ]
  },
  {
   "cell_type": "code",
   "execution_count": 10,
   "metadata": {},
   "outputs": [
    {
     "data": {
      "text/plain": [
       "True"
      ]
     },
     "execution_count": 10,
     "metadata": {},
     "output_type": "execute_result"
    }
   ],
   "source": [
    "'AAPL' in s"
   ]
  },
  {
   "cell_type": "markdown",
   "metadata": {},
   "source": [
    "## DataFrames\n",
    "\n",
    "While a `Series` is a single column of data, a `DataFrame` is several\n",
    "columns, one for each variable.\n",
    "\n",
    "In essence, a `DataFrame` in pandas is analogous to a (highly optimized)\n",
    "Excel spreadsheet.\n",
    "\n",
    "Thus, it is a powerful tool for representing and analyzing data that are\n",
    "naturally organized into rows and columns, often with descriptive\n",
    "indexes for individual rows and individual columns.\n",
    "\n",
    "```{only} html\n",
    "Let\\'s look at an example that reads data from the CSV file\n",
    "`pandas/data/test_pwt.csv` that can be downloaded\n",
    "[here](https://lectures.quantecon.org/_downloads/pandas/data/test_pwt.csv).\n",
    "```\n",
    "\n",
    "```{only} latex\n",
    "Let\\'s look at an example that reads data from the CSV file\n",
    "`pandas/data/test_pwt.csv` and can be downloaded\n",
    "[here](https://lectures.quantecon.org/_downloads/pandas/data/test_pwt.csv).\n",
    "```\n",
    "\n",
    "Here\\'s the content of `test_pwt.csv`\n",
    "\n",
    "```{code-block} none\n",
    "\"country\",\"country isocode\",\"year\",\"POP\",\"XRAT\",\"tcgdp\",\"cc\",\"cg\"\n",
    "\"Argentina\",\"ARG\",\"2000\",\"37335.653\",\"0.9995\",\"295072.21869\",\"75.716805379\",\"5.5788042896\"\n",
    "\"Australia\",\"AUS\",\"2000\",\"19053.186\",\"1.72483\",\"541804.6521\",\"67.759025993\",\"6.7200975332\"\n",
    "\"India\",\"IND\",\"2000\",\"1006300.297\",\"44.9416\",\"1728144.3748\",\"64.575551328\",\"14.072205773\"\n",
    "\"Israel\",\"ISR\",\"2000\",\"6114.57\",\"4.07733\",\"129253.89423\",\"64.436450847\",\"10.266688415\"\n",
    "\"Malawi\",\"MWI\",\"2000\",\"11801.505\",\"59.543808333\",\"5026.2217836\",\"74.707624181\",\"11.658954494\"\n",
    "\"South Africa\",\"ZAF\",\"2000\",\"45064.098\",\"6.93983\",\"227242.36949\",\"72.718710427\",\"5.7265463933\"\n",
    "\"United States\",\"USA\",\"2000\",\"282171.957\",\"1\",\"9898700\",\"72.347054303\",\"6.0324539789\"\n",
    "\"Uruguay\",\"URY\",\"2000\",\"3219.793\",\"12.099591667\",\"25255.961693\",\"78.978740282\",\"5.108067988\"\n",
    "```\n",
    "\n",
    "Supposing you have this data saved as `test_pwt.csv` in the present\n",
    "working directory (type `%pwd` in Jupyter to see what this is), it can\n",
    "be read in as follows:"
   ]
  },
  {
   "cell_type": "code",
   "execution_count": 11,
   "metadata": {},
   "outputs": [
    {
     "data": {
      "text/plain": [
       "pandas.core.frame.DataFrame"
      ]
     },
     "execution_count": 11,
     "metadata": {},
     "output_type": "execute_result"
    }
   ],
   "source": [
    "df = pd.read_csv('https://raw.githubusercontent.com/QuantEcon/lecture-source-py/master/source/_static/lecture_specific/pandas/data/test_pwt.csv')\n",
    "type(df)"
   ]
  },
  {
   "cell_type": "code",
   "execution_count": 12,
   "metadata": {},
   "outputs": [
    {
     "data": {
      "text/html": [
       "<div>\n",
       "<style scoped>\n",
       "    .dataframe tbody tr th:only-of-type {\n",
       "        vertical-align: middle;\n",
       "    }\n",
       "\n",
       "    .dataframe tbody tr th {\n",
       "        vertical-align: top;\n",
       "    }\n",
       "\n",
       "    .dataframe thead th {\n",
       "        text-align: right;\n",
       "    }\n",
       "</style>\n",
       "<table border=\"1\" class=\"dataframe\">\n",
       "  <thead>\n",
       "    <tr style=\"text-align: right;\">\n",
       "      <th></th>\n",
       "      <th>country</th>\n",
       "      <th>country isocode</th>\n",
       "      <th>year</th>\n",
       "      <th>POP</th>\n",
       "      <th>XRAT</th>\n",
       "      <th>tcgdp</th>\n",
       "      <th>cc</th>\n",
       "      <th>cg</th>\n",
       "    </tr>\n",
       "  </thead>\n",
       "  <tbody>\n",
       "    <tr>\n",
       "      <th>0</th>\n",
       "      <td>Argentina</td>\n",
       "      <td>ARG</td>\n",
       "      <td>2000</td>\n",
       "      <td>37335.653</td>\n",
       "      <td>0.999500</td>\n",
       "      <td>2.950722e+05</td>\n",
       "      <td>75.716805</td>\n",
       "      <td>5.578804</td>\n",
       "    </tr>\n",
       "    <tr>\n",
       "      <th>1</th>\n",
       "      <td>Australia</td>\n",
       "      <td>AUS</td>\n",
       "      <td>2000</td>\n",
       "      <td>19053.186</td>\n",
       "      <td>1.724830</td>\n",
       "      <td>5.418047e+05</td>\n",
       "      <td>67.759026</td>\n",
       "      <td>6.720098</td>\n",
       "    </tr>\n",
       "    <tr>\n",
       "      <th>2</th>\n",
       "      <td>India</td>\n",
       "      <td>IND</td>\n",
       "      <td>2000</td>\n",
       "      <td>1006300.297</td>\n",
       "      <td>44.941600</td>\n",
       "      <td>1.728144e+06</td>\n",
       "      <td>64.575551</td>\n",
       "      <td>14.072206</td>\n",
       "    </tr>\n",
       "    <tr>\n",
       "      <th>3</th>\n",
       "      <td>Israel</td>\n",
       "      <td>ISR</td>\n",
       "      <td>2000</td>\n",
       "      <td>6114.570</td>\n",
       "      <td>4.077330</td>\n",
       "      <td>1.292539e+05</td>\n",
       "      <td>64.436451</td>\n",
       "      <td>10.266688</td>\n",
       "    </tr>\n",
       "    <tr>\n",
       "      <th>4</th>\n",
       "      <td>Malawi</td>\n",
       "      <td>MWI</td>\n",
       "      <td>2000</td>\n",
       "      <td>11801.505</td>\n",
       "      <td>59.543808</td>\n",
       "      <td>5.026222e+03</td>\n",
       "      <td>74.707624</td>\n",
       "      <td>11.658954</td>\n",
       "    </tr>\n",
       "    <tr>\n",
       "      <th>5</th>\n",
       "      <td>South Africa</td>\n",
       "      <td>ZAF</td>\n",
       "      <td>2000</td>\n",
       "      <td>45064.098</td>\n",
       "      <td>6.939830</td>\n",
       "      <td>2.272424e+05</td>\n",
       "      <td>72.718710</td>\n",
       "      <td>5.726546</td>\n",
       "    </tr>\n",
       "    <tr>\n",
       "      <th>6</th>\n",
       "      <td>United States</td>\n",
       "      <td>USA</td>\n",
       "      <td>2000</td>\n",
       "      <td>282171.957</td>\n",
       "      <td>1.000000</td>\n",
       "      <td>9.898700e+06</td>\n",
       "      <td>72.347054</td>\n",
       "      <td>6.032454</td>\n",
       "    </tr>\n",
       "    <tr>\n",
       "      <th>7</th>\n",
       "      <td>Uruguay</td>\n",
       "      <td>URY</td>\n",
       "      <td>2000</td>\n",
       "      <td>3219.793</td>\n",
       "      <td>12.099592</td>\n",
       "      <td>2.525596e+04</td>\n",
       "      <td>78.978740</td>\n",
       "      <td>5.108068</td>\n",
       "    </tr>\n",
       "  </tbody>\n",
       "</table>\n",
       "</div>"
      ],
      "text/plain": [
       "         country country isocode  year          POP       XRAT         tcgdp  \\\n",
       "0      Argentina             ARG  2000    37335.653   0.999500  2.950722e+05   \n",
       "1      Australia             AUS  2000    19053.186   1.724830  5.418047e+05   \n",
       "2          India             IND  2000  1006300.297  44.941600  1.728144e+06   \n",
       "3         Israel             ISR  2000     6114.570   4.077330  1.292539e+05   \n",
       "4         Malawi             MWI  2000    11801.505  59.543808  5.026222e+03   \n",
       "5   South Africa             ZAF  2000    45064.098   6.939830  2.272424e+05   \n",
       "6  United States             USA  2000   282171.957   1.000000  9.898700e+06   \n",
       "7        Uruguay             URY  2000     3219.793  12.099592  2.525596e+04   \n",
       "\n",
       "          cc         cg  \n",
       "0  75.716805   5.578804  \n",
       "1  67.759026   6.720098  \n",
       "2  64.575551  14.072206  \n",
       "3  64.436451  10.266688  \n",
       "4  74.707624  11.658954  \n",
       "5  72.718710   5.726546  \n",
       "6  72.347054   6.032454  \n",
       "7  78.978740   5.108068  "
      ]
     },
     "execution_count": 12,
     "metadata": {},
     "output_type": "execute_result"
    }
   ],
   "source": [
    "df"
   ]
  },
  {
   "cell_type": "markdown",
   "metadata": {},
   "source": [
    "We can select particular rows using standard Python array slicing\n",
    "notation"
   ]
  },
  {
   "cell_type": "code",
   "execution_count": 13,
   "metadata": {},
   "outputs": [
    {
     "data": {
      "text/html": [
       "<div>\n",
       "<style scoped>\n",
       "    .dataframe tbody tr th:only-of-type {\n",
       "        vertical-align: middle;\n",
       "    }\n",
       "\n",
       "    .dataframe tbody tr th {\n",
       "        vertical-align: top;\n",
       "    }\n",
       "\n",
       "    .dataframe thead th {\n",
       "        text-align: right;\n",
       "    }\n",
       "</style>\n",
       "<table border=\"1\" class=\"dataframe\">\n",
       "  <thead>\n",
       "    <tr style=\"text-align: right;\">\n",
       "      <th></th>\n",
       "      <th>country</th>\n",
       "      <th>country isocode</th>\n",
       "      <th>year</th>\n",
       "      <th>POP</th>\n",
       "      <th>XRAT</th>\n",
       "      <th>tcgdp</th>\n",
       "      <th>cc</th>\n",
       "      <th>cg</th>\n",
       "    </tr>\n",
       "  </thead>\n",
       "  <tbody>\n",
       "    <tr>\n",
       "      <th>2</th>\n",
       "      <td>India</td>\n",
       "      <td>IND</td>\n",
       "      <td>2000</td>\n",
       "      <td>1006300.297</td>\n",
       "      <td>44.941600</td>\n",
       "      <td>1.728144e+06</td>\n",
       "      <td>64.575551</td>\n",
       "      <td>14.072206</td>\n",
       "    </tr>\n",
       "    <tr>\n",
       "      <th>3</th>\n",
       "      <td>Israel</td>\n",
       "      <td>ISR</td>\n",
       "      <td>2000</td>\n",
       "      <td>6114.570</td>\n",
       "      <td>4.077330</td>\n",
       "      <td>1.292539e+05</td>\n",
       "      <td>64.436451</td>\n",
       "      <td>10.266688</td>\n",
       "    </tr>\n",
       "    <tr>\n",
       "      <th>4</th>\n",
       "      <td>Malawi</td>\n",
       "      <td>MWI</td>\n",
       "      <td>2000</td>\n",
       "      <td>11801.505</td>\n",
       "      <td>59.543808</td>\n",
       "      <td>5.026222e+03</td>\n",
       "      <td>74.707624</td>\n",
       "      <td>11.658954</td>\n",
       "    </tr>\n",
       "  </tbody>\n",
       "</table>\n",
       "</div>"
      ],
      "text/plain": [
       "  country country isocode  year          POP       XRAT         tcgdp  \\\n",
       "2   India             IND  2000  1006300.297  44.941600  1.728144e+06   \n",
       "3  Israel             ISR  2000     6114.570   4.077330  1.292539e+05   \n",
       "4  Malawi             MWI  2000    11801.505  59.543808  5.026222e+03   \n",
       "\n",
       "          cc         cg  \n",
       "2  64.575551  14.072206  \n",
       "3  64.436451  10.266688  \n",
       "4  74.707624  11.658954  "
      ]
     },
     "execution_count": 13,
     "metadata": {},
     "output_type": "execute_result"
    }
   ],
   "source": [
    "df[2:5]"
   ]
  },
  {
   "cell_type": "markdown",
   "metadata": {},
   "source": [
    "To select columns, we can pass a list containing the names of the\n",
    "desired columns represented as strings"
   ]
  },
  {
   "cell_type": "code",
   "execution_count": 14,
   "metadata": {},
   "outputs": [
    {
     "data": {
      "text/html": [
       "<div>\n",
       "<style scoped>\n",
       "    .dataframe tbody tr th:only-of-type {\n",
       "        vertical-align: middle;\n",
       "    }\n",
       "\n",
       "    .dataframe tbody tr th {\n",
       "        vertical-align: top;\n",
       "    }\n",
       "\n",
       "    .dataframe thead th {\n",
       "        text-align: right;\n",
       "    }\n",
       "</style>\n",
       "<table border=\"1\" class=\"dataframe\">\n",
       "  <thead>\n",
       "    <tr style=\"text-align: right;\">\n",
       "      <th></th>\n",
       "      <th>country</th>\n",
       "      <th>tcgdp</th>\n",
       "    </tr>\n",
       "  </thead>\n",
       "  <tbody>\n",
       "    <tr>\n",
       "      <th>0</th>\n",
       "      <td>Argentina</td>\n",
       "      <td>2.950722e+05</td>\n",
       "    </tr>\n",
       "    <tr>\n",
       "      <th>1</th>\n",
       "      <td>Australia</td>\n",
       "      <td>5.418047e+05</td>\n",
       "    </tr>\n",
       "    <tr>\n",
       "      <th>2</th>\n",
       "      <td>India</td>\n",
       "      <td>1.728144e+06</td>\n",
       "    </tr>\n",
       "    <tr>\n",
       "      <th>3</th>\n",
       "      <td>Israel</td>\n",
       "      <td>1.292539e+05</td>\n",
       "    </tr>\n",
       "    <tr>\n",
       "      <th>4</th>\n",
       "      <td>Malawi</td>\n",
       "      <td>5.026222e+03</td>\n",
       "    </tr>\n",
       "    <tr>\n",
       "      <th>5</th>\n",
       "      <td>South Africa</td>\n",
       "      <td>2.272424e+05</td>\n",
       "    </tr>\n",
       "    <tr>\n",
       "      <th>6</th>\n",
       "      <td>United States</td>\n",
       "      <td>9.898700e+06</td>\n",
       "    </tr>\n",
       "    <tr>\n",
       "      <th>7</th>\n",
       "      <td>Uruguay</td>\n",
       "      <td>2.525596e+04</td>\n",
       "    </tr>\n",
       "  </tbody>\n",
       "</table>\n",
       "</div>"
      ],
      "text/plain": [
       "         country         tcgdp\n",
       "0      Argentina  2.950722e+05\n",
       "1      Australia  5.418047e+05\n",
       "2          India  1.728144e+06\n",
       "3         Israel  1.292539e+05\n",
       "4         Malawi  5.026222e+03\n",
       "5   South Africa  2.272424e+05\n",
       "6  United States  9.898700e+06\n",
       "7        Uruguay  2.525596e+04"
      ]
     },
     "execution_count": 14,
     "metadata": {},
     "output_type": "execute_result"
    }
   ],
   "source": [
    "df[['country', 'tcgdp']]"
   ]
  },
  {
   "cell_type": "markdown",
   "metadata": {},
   "source": [
    "To select both rows and columns using integers, the `iloc` attribute\n",
    "should be used with the format `.iloc[rows, columns]`"
   ]
  },
  {
   "cell_type": "code",
   "execution_count": 15,
   "metadata": {},
   "outputs": [
    {
     "data": {
      "text/html": [
       "<div>\n",
       "<style scoped>\n",
       "    .dataframe tbody tr th:only-of-type {\n",
       "        vertical-align: middle;\n",
       "    }\n",
       "\n",
       "    .dataframe tbody tr th {\n",
       "        vertical-align: top;\n",
       "    }\n",
       "\n",
       "    .dataframe thead th {\n",
       "        text-align: right;\n",
       "    }\n",
       "</style>\n",
       "<table border=\"1\" class=\"dataframe\">\n",
       "  <thead>\n",
       "    <tr style=\"text-align: right;\">\n",
       "      <th></th>\n",
       "      <th>country</th>\n",
       "      <th>country isocode</th>\n",
       "      <th>year</th>\n",
       "      <th>POP</th>\n",
       "    </tr>\n",
       "  </thead>\n",
       "  <tbody>\n",
       "    <tr>\n",
       "      <th>2</th>\n",
       "      <td>India</td>\n",
       "      <td>IND</td>\n",
       "      <td>2000</td>\n",
       "      <td>1006300.297</td>\n",
       "    </tr>\n",
       "    <tr>\n",
       "      <th>3</th>\n",
       "      <td>Israel</td>\n",
       "      <td>ISR</td>\n",
       "      <td>2000</td>\n",
       "      <td>6114.570</td>\n",
       "    </tr>\n",
       "    <tr>\n",
       "      <th>4</th>\n",
       "      <td>Malawi</td>\n",
       "      <td>MWI</td>\n",
       "      <td>2000</td>\n",
       "      <td>11801.505</td>\n",
       "    </tr>\n",
       "  </tbody>\n",
       "</table>\n",
       "</div>"
      ],
      "text/plain": [
       "  country country isocode  year          POP\n",
       "2   India             IND  2000  1006300.297\n",
       "3  Israel             ISR  2000     6114.570\n",
       "4  Malawi             MWI  2000    11801.505"
      ]
     },
     "execution_count": 15,
     "metadata": {},
     "output_type": "execute_result"
    }
   ],
   "source": [
    "df.iloc[2:5, 0:4]"
   ]
  },
  {
   "cell_type": "markdown",
   "metadata": {},
   "source": [
    "To select rows and columns using a mixture of integers and labels, the\n",
    "`loc` attribute can be used in a similar way"
   ]
  },
  {
   "cell_type": "code",
   "execution_count": 16,
   "metadata": {},
   "outputs": [
    {
     "data": {
      "text/html": [
       "<div>\n",
       "<style scoped>\n",
       "    .dataframe tbody tr th:only-of-type {\n",
       "        vertical-align: middle;\n",
       "    }\n",
       "\n",
       "    .dataframe tbody tr th {\n",
       "        vertical-align: top;\n",
       "    }\n",
       "\n",
       "    .dataframe thead th {\n",
       "        text-align: right;\n",
       "    }\n",
       "</style>\n",
       "<table border=\"1\" class=\"dataframe\">\n",
       "  <thead>\n",
       "    <tr style=\"text-align: right;\">\n",
       "      <th></th>\n",
       "      <th>country</th>\n",
       "      <th>tcgdp</th>\n",
       "    </tr>\n",
       "  </thead>\n",
       "  <tbody>\n",
       "    <tr>\n",
       "      <th>2</th>\n",
       "      <td>India</td>\n",
       "      <td>1.728144e+06</td>\n",
       "    </tr>\n",
       "    <tr>\n",
       "      <th>3</th>\n",
       "      <td>Israel</td>\n",
       "      <td>1.292539e+05</td>\n",
       "    </tr>\n",
       "    <tr>\n",
       "      <th>4</th>\n",
       "      <td>Malawi</td>\n",
       "      <td>5.026222e+03</td>\n",
       "    </tr>\n",
       "  </tbody>\n",
       "</table>\n",
       "</div>"
      ],
      "text/plain": [
       "  country         tcgdp\n",
       "2   India  1.728144e+06\n",
       "3  Israel  1.292539e+05\n",
       "4  Malawi  5.026222e+03"
      ]
     },
     "execution_count": 16,
     "metadata": {},
     "output_type": "execute_result"
    }
   ],
   "source": [
    "df.loc[df.index[2:5], ['country', 'tcgdp']]"
   ]
  },
  {
   "cell_type": "markdown",
   "metadata": {},
   "source": [
    "Let\\'s imagine that we\\'re only interested in population (`POP`) and\n",
    "total GDP (`tcgdp`).\n",
    "\n",
    "One way to strip the data frame `df` down to only these variables is to\n",
    "overwrite the dataframe using the selection method described above"
   ]
  },
  {
   "cell_type": "code",
   "execution_count": 17,
   "metadata": {},
   "outputs": [
    {
     "data": {
      "text/html": [
       "<div>\n",
       "<style scoped>\n",
       "    .dataframe tbody tr th:only-of-type {\n",
       "        vertical-align: middle;\n",
       "    }\n",
       "\n",
       "    .dataframe tbody tr th {\n",
       "        vertical-align: top;\n",
       "    }\n",
       "\n",
       "    .dataframe thead th {\n",
       "        text-align: right;\n",
       "    }\n",
       "</style>\n",
       "<table border=\"1\" class=\"dataframe\">\n",
       "  <thead>\n",
       "    <tr style=\"text-align: right;\">\n",
       "      <th></th>\n",
       "      <th>country</th>\n",
       "      <th>POP</th>\n",
       "      <th>tcgdp</th>\n",
       "    </tr>\n",
       "  </thead>\n",
       "  <tbody>\n",
       "    <tr>\n",
       "      <th>0</th>\n",
       "      <td>Argentina</td>\n",
       "      <td>37335.653</td>\n",
       "      <td>2.950722e+05</td>\n",
       "    </tr>\n",
       "    <tr>\n",
       "      <th>1</th>\n",
       "      <td>Australia</td>\n",
       "      <td>19053.186</td>\n",
       "      <td>5.418047e+05</td>\n",
       "    </tr>\n",
       "    <tr>\n",
       "      <th>2</th>\n",
       "      <td>India</td>\n",
       "      <td>1006300.297</td>\n",
       "      <td>1.728144e+06</td>\n",
       "    </tr>\n",
       "    <tr>\n",
       "      <th>3</th>\n",
       "      <td>Israel</td>\n",
       "      <td>6114.570</td>\n",
       "      <td>1.292539e+05</td>\n",
       "    </tr>\n",
       "    <tr>\n",
       "      <th>4</th>\n",
       "      <td>Malawi</td>\n",
       "      <td>11801.505</td>\n",
       "      <td>5.026222e+03</td>\n",
       "    </tr>\n",
       "    <tr>\n",
       "      <th>5</th>\n",
       "      <td>South Africa</td>\n",
       "      <td>45064.098</td>\n",
       "      <td>2.272424e+05</td>\n",
       "    </tr>\n",
       "    <tr>\n",
       "      <th>6</th>\n",
       "      <td>United States</td>\n",
       "      <td>282171.957</td>\n",
       "      <td>9.898700e+06</td>\n",
       "    </tr>\n",
       "    <tr>\n",
       "      <th>7</th>\n",
       "      <td>Uruguay</td>\n",
       "      <td>3219.793</td>\n",
       "      <td>2.525596e+04</td>\n",
       "    </tr>\n",
       "  </tbody>\n",
       "</table>\n",
       "</div>"
      ],
      "text/plain": [
       "         country          POP         tcgdp\n",
       "0      Argentina    37335.653  2.950722e+05\n",
       "1      Australia    19053.186  5.418047e+05\n",
       "2          India  1006300.297  1.728144e+06\n",
       "3         Israel     6114.570  1.292539e+05\n",
       "4         Malawi    11801.505  5.026222e+03\n",
       "5   South Africa    45064.098  2.272424e+05\n",
       "6  United States   282171.957  9.898700e+06\n",
       "7        Uruguay     3219.793  2.525596e+04"
      ]
     },
     "execution_count": 17,
     "metadata": {},
     "output_type": "execute_result"
    }
   ],
   "source": [
    "df = df[['country', 'POP', 'tcgdp']]\n",
    "df"
   ]
  },
  {
   "cell_type": "markdown",
   "metadata": {},
   "source": [
    "Here the index `0, 1,..., 7` is redundant because we can use the country\n",
    "names as an index.\n",
    "\n",
    "To do this, we set the index to be the `country` variable in the\n",
    "dataframe"
   ]
  },
  {
   "cell_type": "code",
   "execution_count": 18,
   "metadata": {},
   "outputs": [
    {
     "data": {
      "text/html": [
       "<div>\n",
       "<style scoped>\n",
       "    .dataframe tbody tr th:only-of-type {\n",
       "        vertical-align: middle;\n",
       "    }\n",
       "\n",
       "    .dataframe tbody tr th {\n",
       "        vertical-align: top;\n",
       "    }\n",
       "\n",
       "    .dataframe thead th {\n",
       "        text-align: right;\n",
       "    }\n",
       "</style>\n",
       "<table border=\"1\" class=\"dataframe\">\n",
       "  <thead>\n",
       "    <tr style=\"text-align: right;\">\n",
       "      <th></th>\n",
       "      <th>POP</th>\n",
       "      <th>tcgdp</th>\n",
       "    </tr>\n",
       "    <tr>\n",
       "      <th>country</th>\n",
       "      <th></th>\n",
       "      <th></th>\n",
       "    </tr>\n",
       "  </thead>\n",
       "  <tbody>\n",
       "    <tr>\n",
       "      <th>Argentina</th>\n",
       "      <td>37335.653</td>\n",
       "      <td>2.950722e+05</td>\n",
       "    </tr>\n",
       "    <tr>\n",
       "      <th>Australia</th>\n",
       "      <td>19053.186</td>\n",
       "      <td>5.418047e+05</td>\n",
       "    </tr>\n",
       "    <tr>\n",
       "      <th>India</th>\n",
       "      <td>1006300.297</td>\n",
       "      <td>1.728144e+06</td>\n",
       "    </tr>\n",
       "    <tr>\n",
       "      <th>Israel</th>\n",
       "      <td>6114.570</td>\n",
       "      <td>1.292539e+05</td>\n",
       "    </tr>\n",
       "    <tr>\n",
       "      <th>Malawi</th>\n",
       "      <td>11801.505</td>\n",
       "      <td>5.026222e+03</td>\n",
       "    </tr>\n",
       "    <tr>\n",
       "      <th>South Africa</th>\n",
       "      <td>45064.098</td>\n",
       "      <td>2.272424e+05</td>\n",
       "    </tr>\n",
       "    <tr>\n",
       "      <th>United States</th>\n",
       "      <td>282171.957</td>\n",
       "      <td>9.898700e+06</td>\n",
       "    </tr>\n",
       "    <tr>\n",
       "      <th>Uruguay</th>\n",
       "      <td>3219.793</td>\n",
       "      <td>2.525596e+04</td>\n",
       "    </tr>\n",
       "  </tbody>\n",
       "</table>\n",
       "</div>"
      ],
      "text/plain": [
       "                       POP         tcgdp\n",
       "country                                 \n",
       "Argentina        37335.653  2.950722e+05\n",
       "Australia        19053.186  5.418047e+05\n",
       "India          1006300.297  1.728144e+06\n",
       "Israel            6114.570  1.292539e+05\n",
       "Malawi           11801.505  5.026222e+03\n",
       "South Africa     45064.098  2.272424e+05\n",
       "United States   282171.957  9.898700e+06\n",
       "Uruguay           3219.793  2.525596e+04"
      ]
     },
     "execution_count": 18,
     "metadata": {},
     "output_type": "execute_result"
    }
   ],
   "source": [
    "df = df.set_index('country')\n",
    "df"
   ]
  },
  {
   "cell_type": "markdown",
   "metadata": {},
   "source": [
    "Let\\'s give the columns slightly better names"
   ]
  },
  {
   "cell_type": "code",
   "execution_count": 19,
   "metadata": {},
   "outputs": [
    {
     "data": {
      "text/html": [
       "<div>\n",
       "<style scoped>\n",
       "    .dataframe tbody tr th:only-of-type {\n",
       "        vertical-align: middle;\n",
       "    }\n",
       "\n",
       "    .dataframe tbody tr th {\n",
       "        vertical-align: top;\n",
       "    }\n",
       "\n",
       "    .dataframe thead th {\n",
       "        text-align: right;\n",
       "    }\n",
       "</style>\n",
       "<table border=\"1\" class=\"dataframe\">\n",
       "  <thead>\n",
       "    <tr style=\"text-align: right;\">\n",
       "      <th></th>\n",
       "      <th>population</th>\n",
       "      <th>total GDP</th>\n",
       "    </tr>\n",
       "    <tr>\n",
       "      <th>country</th>\n",
       "      <th></th>\n",
       "      <th></th>\n",
       "    </tr>\n",
       "  </thead>\n",
       "  <tbody>\n",
       "    <tr>\n",
       "      <th>Argentina</th>\n",
       "      <td>37335.653</td>\n",
       "      <td>2.950722e+05</td>\n",
       "    </tr>\n",
       "    <tr>\n",
       "      <th>Australia</th>\n",
       "      <td>19053.186</td>\n",
       "      <td>5.418047e+05</td>\n",
       "    </tr>\n",
       "    <tr>\n",
       "      <th>India</th>\n",
       "      <td>1006300.297</td>\n",
       "      <td>1.728144e+06</td>\n",
       "    </tr>\n",
       "    <tr>\n",
       "      <th>Israel</th>\n",
       "      <td>6114.570</td>\n",
       "      <td>1.292539e+05</td>\n",
       "    </tr>\n",
       "    <tr>\n",
       "      <th>Malawi</th>\n",
       "      <td>11801.505</td>\n",
       "      <td>5.026222e+03</td>\n",
       "    </tr>\n",
       "    <tr>\n",
       "      <th>South Africa</th>\n",
       "      <td>45064.098</td>\n",
       "      <td>2.272424e+05</td>\n",
       "    </tr>\n",
       "    <tr>\n",
       "      <th>United States</th>\n",
       "      <td>282171.957</td>\n",
       "      <td>9.898700e+06</td>\n",
       "    </tr>\n",
       "    <tr>\n",
       "      <th>Uruguay</th>\n",
       "      <td>3219.793</td>\n",
       "      <td>2.525596e+04</td>\n",
       "    </tr>\n",
       "  </tbody>\n",
       "</table>\n",
       "</div>"
      ],
      "text/plain": [
       "                population     total GDP\n",
       "country                                 \n",
       "Argentina        37335.653  2.950722e+05\n",
       "Australia        19053.186  5.418047e+05\n",
       "India          1006300.297  1.728144e+06\n",
       "Israel            6114.570  1.292539e+05\n",
       "Malawi           11801.505  5.026222e+03\n",
       "South Africa     45064.098  2.272424e+05\n",
       "United States   282171.957  9.898700e+06\n",
       "Uruguay           3219.793  2.525596e+04"
      ]
     },
     "execution_count": 19,
     "metadata": {},
     "output_type": "execute_result"
    }
   ],
   "source": [
    "df.columns = 'population', 'total GDP'\n",
    "df"
   ]
  },
  {
   "cell_type": "markdown",
   "metadata": {},
   "source": [
    "Population is in thousands, let\\'s revert to single units"
   ]
  },
  {
   "cell_type": "code",
   "execution_count": 20,
   "metadata": {},
   "outputs": [
    {
     "data": {
      "text/html": [
       "<div>\n",
       "<style scoped>\n",
       "    .dataframe tbody tr th:only-of-type {\n",
       "        vertical-align: middle;\n",
       "    }\n",
       "\n",
       "    .dataframe tbody tr th {\n",
       "        vertical-align: top;\n",
       "    }\n",
       "\n",
       "    .dataframe thead th {\n",
       "        text-align: right;\n",
       "    }\n",
       "</style>\n",
       "<table border=\"1\" class=\"dataframe\">\n",
       "  <thead>\n",
       "    <tr style=\"text-align: right;\">\n",
       "      <th></th>\n",
       "      <th>population</th>\n",
       "      <th>total GDP</th>\n",
       "    </tr>\n",
       "    <tr>\n",
       "      <th>country</th>\n",
       "      <th></th>\n",
       "      <th></th>\n",
       "    </tr>\n",
       "  </thead>\n",
       "  <tbody>\n",
       "    <tr>\n",
       "      <th>Argentina</th>\n",
       "      <td>3.733565e+07</td>\n",
       "      <td>2.950722e+05</td>\n",
       "    </tr>\n",
       "    <tr>\n",
       "      <th>Australia</th>\n",
       "      <td>1.905319e+07</td>\n",
       "      <td>5.418047e+05</td>\n",
       "    </tr>\n",
       "    <tr>\n",
       "      <th>India</th>\n",
       "      <td>1.006300e+09</td>\n",
       "      <td>1.728144e+06</td>\n",
       "    </tr>\n",
       "    <tr>\n",
       "      <th>Israel</th>\n",
       "      <td>6.114570e+06</td>\n",
       "      <td>1.292539e+05</td>\n",
       "    </tr>\n",
       "    <tr>\n",
       "      <th>Malawi</th>\n",
       "      <td>1.180150e+07</td>\n",
       "      <td>5.026222e+03</td>\n",
       "    </tr>\n",
       "    <tr>\n",
       "      <th>South Africa</th>\n",
       "      <td>4.506410e+07</td>\n",
       "      <td>2.272424e+05</td>\n",
       "    </tr>\n",
       "    <tr>\n",
       "      <th>United States</th>\n",
       "      <td>2.821720e+08</td>\n",
       "      <td>9.898700e+06</td>\n",
       "    </tr>\n",
       "    <tr>\n",
       "      <th>Uruguay</th>\n",
       "      <td>3.219793e+06</td>\n",
       "      <td>2.525596e+04</td>\n",
       "    </tr>\n",
       "  </tbody>\n",
       "</table>\n",
       "</div>"
      ],
      "text/plain": [
       "                 population     total GDP\n",
       "country                                  \n",
       "Argentina      3.733565e+07  2.950722e+05\n",
       "Australia      1.905319e+07  5.418047e+05\n",
       "India          1.006300e+09  1.728144e+06\n",
       "Israel         6.114570e+06  1.292539e+05\n",
       "Malawi         1.180150e+07  5.026222e+03\n",
       "South Africa   4.506410e+07  2.272424e+05\n",
       "United States  2.821720e+08  9.898700e+06\n",
       "Uruguay        3.219793e+06  2.525596e+04"
      ]
     },
     "execution_count": 20,
     "metadata": {},
     "output_type": "execute_result"
    }
   ],
   "source": [
    "df['population'] = df['population'] * 1e3\n",
    "df"
   ]
  },
  {
   "cell_type": "markdown",
   "metadata": {},
   "source": [
    "Next, we\\'re going to add a column showing real GDP per capita,\n",
    "multiplying by 1,000,000 as we go because total GDP is in millions"
   ]
  },
  {
   "cell_type": "code",
   "execution_count": 21,
   "metadata": {},
   "outputs": [
    {
     "data": {
      "text/html": [
       "<div>\n",
       "<style scoped>\n",
       "    .dataframe tbody tr th:only-of-type {\n",
       "        vertical-align: middle;\n",
       "    }\n",
       "\n",
       "    .dataframe tbody tr th {\n",
       "        vertical-align: top;\n",
       "    }\n",
       "\n",
       "    .dataframe thead th {\n",
       "        text-align: right;\n",
       "    }\n",
       "</style>\n",
       "<table border=\"1\" class=\"dataframe\">\n",
       "  <thead>\n",
       "    <tr style=\"text-align: right;\">\n",
       "      <th></th>\n",
       "      <th>population</th>\n",
       "      <th>total GDP</th>\n",
       "      <th>GDP percap</th>\n",
       "    </tr>\n",
       "    <tr>\n",
       "      <th>country</th>\n",
       "      <th></th>\n",
       "      <th></th>\n",
       "      <th></th>\n",
       "    </tr>\n",
       "  </thead>\n",
       "  <tbody>\n",
       "    <tr>\n",
       "      <th>Argentina</th>\n",
       "      <td>3.733565e+07</td>\n",
       "      <td>2.950722e+05</td>\n",
       "      <td>7903.229085</td>\n",
       "    </tr>\n",
       "    <tr>\n",
       "      <th>Australia</th>\n",
       "      <td>1.905319e+07</td>\n",
       "      <td>5.418047e+05</td>\n",
       "      <td>28436.433261</td>\n",
       "    </tr>\n",
       "    <tr>\n",
       "      <th>India</th>\n",
       "      <td>1.006300e+09</td>\n",
       "      <td>1.728144e+06</td>\n",
       "      <td>1717.324719</td>\n",
       "    </tr>\n",
       "    <tr>\n",
       "      <th>Israel</th>\n",
       "      <td>6.114570e+06</td>\n",
       "      <td>1.292539e+05</td>\n",
       "      <td>21138.672749</td>\n",
       "    </tr>\n",
       "    <tr>\n",
       "      <th>Malawi</th>\n",
       "      <td>1.180150e+07</td>\n",
       "      <td>5.026222e+03</td>\n",
       "      <td>425.896679</td>\n",
       "    </tr>\n",
       "    <tr>\n",
       "      <th>South Africa</th>\n",
       "      <td>4.506410e+07</td>\n",
       "      <td>2.272424e+05</td>\n",
       "      <td>5042.647686</td>\n",
       "    </tr>\n",
       "    <tr>\n",
       "      <th>United States</th>\n",
       "      <td>2.821720e+08</td>\n",
       "      <td>9.898700e+06</td>\n",
       "      <td>35080.381854</td>\n",
       "    </tr>\n",
       "    <tr>\n",
       "      <th>Uruguay</th>\n",
       "      <td>3.219793e+06</td>\n",
       "      <td>2.525596e+04</td>\n",
       "      <td>7843.970620</td>\n",
       "    </tr>\n",
       "  </tbody>\n",
       "</table>\n",
       "</div>"
      ],
      "text/plain": [
       "                 population     total GDP    GDP percap\n",
       "country                                                \n",
       "Argentina      3.733565e+07  2.950722e+05   7903.229085\n",
       "Australia      1.905319e+07  5.418047e+05  28436.433261\n",
       "India          1.006300e+09  1.728144e+06   1717.324719\n",
       "Israel         6.114570e+06  1.292539e+05  21138.672749\n",
       "Malawi         1.180150e+07  5.026222e+03    425.896679\n",
       "South Africa   4.506410e+07  2.272424e+05   5042.647686\n",
       "United States  2.821720e+08  9.898700e+06  35080.381854\n",
       "Uruguay        3.219793e+06  2.525596e+04   7843.970620"
      ]
     },
     "execution_count": 21,
     "metadata": {},
     "output_type": "execute_result"
    }
   ],
   "source": [
    "df['GDP percap'] = df['total GDP'] * 1e6 / df['population']\n",
    "df"
   ]
  },
  {
   "cell_type": "markdown",
   "metadata": {},
   "source": [
    "One of the nice things about pandas `DataFrame` and `Series` objects is\n",
    "that they have methods for plotting and visualization that work through\n",
    "Matplotlib.\n",
    "\n",
    "For example, we can easily generate a bar plot of GDP per capita"
   ]
  },
  {
   "cell_type": "code",
   "execution_count": 22,
   "metadata": {},
   "outputs": [
    {
     "data": {
      "image/png": "[encoded data removed]",
      "text/plain": [
       "<Figure size 432x288 with 1 Axes>"
      ]
     },
     "metadata": {
      "needs_background": "light"
     },
     "output_type": "display_data"
    }
   ],
   "source": [
    "ax = df['GDP percap'].plot(kind='bar')\n",
    "ax.set_xlabel('country', fontsize=12)\n",
    "ax.set_ylabel('GDP per capita', fontsize=12)\n",
    "plt.show()"
   ]
  },
  {
   "cell_type": "markdown",
   "metadata": {},
   "source": [
    "At the moment the data frame is ordered alphabetically on the\n",
    "countries---let\\'s change it to GDP per capita"
   ]
  },
  {
   "cell_type": "code",
   "execution_count": 23,
   "metadata": {},
   "outputs": [
    {
     "data": {
      "text/html": [
       "<div>\n",
       "<style scoped>\n",
       "    .dataframe tbody tr th:only-of-type {\n",
       "        vertical-align: middle;\n",
       "    }\n",
       "\n",
       "    .dataframe tbody tr th {\n",
       "        vertical-align: top;\n",
       "    }\n",
       "\n",
       "    .dataframe thead th {\n",
       "        text-align: right;\n",
       "    }\n",
       "</style>\n",
       "<table border=\"1\" class=\"dataframe\">\n",
       "  <thead>\n",
       "    <tr style=\"text-align: right;\">\n",
       "      <th></th>\n",
       "      <th>population</th>\n",
       "      <th>total GDP</th>\n",
       "      <th>GDP percap</th>\n",
       "    </tr>\n",
       "    <tr>\n",
       "      <th>country</th>\n",
       "      <th></th>\n",
       "      <th></th>\n",
       "      <th></th>\n",
       "    </tr>\n",
       "  </thead>\n",
       "  <tbody>\n",
       "    <tr>\n",
       "      <th>United States</th>\n",
       "      <td>2.821720e+08</td>\n",
       "      <td>9.898700e+06</td>\n",
       "      <td>35080.381854</td>\n",
       "    </tr>\n",
       "    <tr>\n",
       "      <th>Australia</th>\n",
       "      <td>1.905319e+07</td>\n",
       "      <td>5.418047e+05</td>\n",
       "      <td>28436.433261</td>\n",
       "    </tr>\n",
       "    <tr>\n",
       "      <th>Israel</th>\n",
       "      <td>6.114570e+06</td>\n",
       "      <td>1.292539e+05</td>\n",
       "      <td>21138.672749</td>\n",
       "    </tr>\n",
       "    <tr>\n",
       "      <th>Argentina</th>\n",
       "      <td>3.733565e+07</td>\n",
       "      <td>2.950722e+05</td>\n",
       "      <td>7903.229085</td>\n",
       "    </tr>\n",
       "    <tr>\n",
       "      <th>Uruguay</th>\n",
       "      <td>3.219793e+06</td>\n",
       "      <td>2.525596e+04</td>\n",
       "      <td>7843.970620</td>\n",
       "    </tr>\n",
       "    <tr>\n",
       "      <th>South Africa</th>\n",
       "      <td>4.506410e+07</td>\n",
       "      <td>2.272424e+05</td>\n",
       "      <td>5042.647686</td>\n",
       "    </tr>\n",
       "    <tr>\n",
       "      <th>India</th>\n",
       "      <td>1.006300e+09</td>\n",
       "      <td>1.728144e+06</td>\n",
       "      <td>1717.324719</td>\n",
       "    </tr>\n",
       "    <tr>\n",
       "      <th>Malawi</th>\n",
       "      <td>1.180150e+07</td>\n",
       "      <td>5.026222e+03</td>\n",
       "      <td>425.896679</td>\n",
       "    </tr>\n",
       "  </tbody>\n",
       "</table>\n",
       "</div>"
      ],
      "text/plain": [
       "                 population     total GDP    GDP percap\n",
       "country                                                \n",
       "United States  2.821720e+08  9.898700e+06  35080.381854\n",
       "Australia      1.905319e+07  5.418047e+05  28436.433261\n",
       "Israel         6.114570e+06  1.292539e+05  21138.672749\n",
       "Argentina      3.733565e+07  2.950722e+05   7903.229085\n",
       "Uruguay        3.219793e+06  2.525596e+04   7843.970620\n",
       "South Africa   4.506410e+07  2.272424e+05   5042.647686\n",
       "India          1.006300e+09  1.728144e+06   1717.324719\n",
       "Malawi         1.180150e+07  5.026222e+03    425.896679"
      ]
     },
     "execution_count": 23,
     "metadata": {},
     "output_type": "execute_result"
    }
   ],
   "source": [
    "df = df.sort_values(by='GDP percap', ascending=False)\n",
    "df"
   ]
  },
  {
   "cell_type": "markdown",
   "metadata": {},
   "source": [
    "Plotting as before now yields"
   ]
  },
  {
   "cell_type": "code",
   "execution_count": 24,
   "metadata": {},
   "outputs": [
    {
     "data": {
      "image/png": "[encoded data removed]",
      "text/plain": [
       "<Figure size 432x288 with 1 Axes>"
      ]
     },
     "metadata": {
      "needs_background": "light"
     },
     "output_type": "display_data"
    }
   ],
   "source": [
    "ax = df['GDP percap'].plot(kind='bar')\n",
    "ax.set_xlabel('country', fontsize=12)\n",
    "ax.set_ylabel('GDP per capita', fontsize=12)\n",
    "plt.show()"
   ]
  },
  {
   "cell_type": "markdown",
   "metadata": {},
   "source": [
    "## On-Line Data Sources\n",
    "\n",
    "Python makes it straightforward to query online databases\n",
    "programmatically.\n",
    "\n",
    "An important database for economists is\n",
    "[FRED](https://research.stlouisfed.org/fred2/) --- a vast collection\n",
    "of time series data maintained by the St. Louis Fed.\n",
    "\n",
    "For example, suppose that we are interested in the [unemployment\n",
    "rate](https://research.stlouisfed.org/fred2/series/UNRATE).\n",
    "\n",
    "Via FRED, the entire series for the US civilian unemployment rate can be\n",
    "downloaded directly by entering this URL into your browser (note that\n",
    "this requires an internet connection)\n",
    "\n",
    "```{code-block} none\n",
    "https://research.stlouisfed.org/fred2/series/UNRATE/downloaddata/UNRATE.csv\n",
    "```\n",
    "\n",
    "(Equivalently, click here:\n",
    "https://research.stlouisfed.org/fred2/series/UNRATE/downloaddata/UNRATE.csv)\n",
    "\n",
    "This request returns a CSV file, which will be handled by your default\n",
    "application for this class of files.\n",
    "\n",
    "Alternatively, we can access the CSV file from within a Python program.\n",
    "\n",
    "This can be done with a variety of methods.\n",
    "\n",
    "We start with a relatively low-level method and then return to pandas.\n",
    "\n",
    "### Accessing Data with requests\n",
    "\n",
    "One option is to use\n",
    "[requests](https://requests.readthedocs.io/en/master/), a standard\n",
    "Python library for requesting data over the Internet.\n",
    "\n",
    "To begin, try the following code on your computer"
   ]
  },
  {
   "cell_type": "code",
   "execution_count": 25,
   "metadata": {},
   "outputs": [],
   "source": [
    "r = requests.get('http://research.stlouisfed.org/fred2/series/UNRATE/downloaddata/UNRATE.csv')"
   ]
  },
  {
   "cell_type": "markdown",
   "metadata": {},
   "source": [
    "If there\\'s no error message, then the call has succeeded.\n",
    "\n",
    "If you do get an error, then there are two likely causes\n",
    "\n",
    "1.  You are not connected to the Internet --- hopefully, this isn\\'t\n",
    "    the case.\n",
    "2.  Your machine is accessing the Internet through a proxy server, and\n",
    "    Python isn\\'t aware of this.\n",
    "\n",
    "In the second case, you can either\n",
    "\n",
    "-   switch to another machine\n",
    "-   solve your proxy problem by reading [the\n",
    "    documentation](https://requests.readthedocs.io/en/master/)\n",
    "\n",
    "Assuming that all is working, you can now proceed to use the `source`\n",
    "object returned by the call\n",
    "`requests.get('http://research.stlouisfed.org/fred2/series/UNRATE/downloaddata/UNRATE.csv')`"
   ]
  },
  {
   "cell_type": "code",
   "execution_count": 26,
   "metadata": {},
   "outputs": [
    {
     "data": {
      "text/plain": [
       "'DATE,VALUE\\r'"
      ]
     },
     "execution_count": 26,
     "metadata": {},
     "output_type": "execute_result"
    }
   ],
   "source": [
    "url = 'http://research.stlouisfed.org/fred2/series/UNRATE/downloaddata/UNRATE.csv'\n",
    "source = requests.get(url).content.decode().split(\"\\n\")\n",
    "source[0]"
   ]
  },
  {
   "cell_type": "code",
   "execution_count": 27,
   "metadata": {},
   "outputs": [
    {
     "data": {
      "text/plain": [
       "'1948-01-01,3.4\\r'"
      ]
     },
     "execution_count": 27,
     "metadata": {},
     "output_type": "execute_result"
    }
   ],
   "source": [
    "source[1]"
   ]
  },
  {
   "cell_type": "code",
   "execution_count": 28,
   "metadata": {},
   "outputs": [
    {
     "data": {
      "text/plain": [
       "'1948-02-01,3.8\\r'"
      ]
     },
     "execution_count": 28,
     "metadata": {},
     "output_type": "execute_result"
    }
   ],
   "source": [
    "source[2]"
   ]
  },
  {
   "cell_type": "markdown",
   "metadata": {},
   "source": [
    "We could now write some additional code to parse this text and store it\n",
    "as an array.\n",
    "\n",
    "But this is unnecessary --- pandas\\' `read_csv` function can handle\n",
    "the task for us.\n",
    "\n",
    "We use `parse_dates=True` so that pandas recognizes our dates column,\n",
    "allowing for simple date filtering"
   ]
  },
  {
   "cell_type": "code",
   "execution_count": 29,
   "metadata": {},
   "outputs": [],
   "source": [
    "data = pd.read_csv(url, index_col=0, parse_dates=True)"
   ]
  },
  {
   "cell_type": "markdown",
   "metadata": {},
   "source": [
    "The data has been read into a pandas DataFrame called `data` that we can\n",
    "now manipulate in the usual way"
   ]
  },
  {
   "cell_type": "code",
   "execution_count": 30,
   "metadata": {},
   "outputs": [
    {
     "data": {
      "text/plain": [
       "pandas.core.frame.DataFrame"
      ]
     },
     "execution_count": 30,
     "metadata": {},
     "output_type": "execute_result"
    }
   ],
   "source": [
    "type(data)"
   ]
  },
  {
   "cell_type": "code",
   "execution_count": 31,
   "metadata": {},
   "outputs": [
    {
     "data": {
      "text/html": [
       "<div>\n",
       "<style scoped>\n",
       "    .dataframe tbody tr th:only-of-type {\n",
       "        vertical-align: middle;\n",
       "    }\n",
       "\n",
       "    .dataframe tbody tr th {\n",
       "        vertical-align: top;\n",
       "    }\n",
       "\n",
       "    .dataframe thead th {\n",
       "        text-align: right;\n",
       "    }\n",
       "</style>\n",
       "<table border=\"1\" class=\"dataframe\">\n",
       "  <thead>\n",
       "    <tr style=\"text-align: right;\">\n",
       "      <th></th>\n",
       "      <th>VALUE</th>\n",
       "    </tr>\n",
       "    <tr>\n",
       "      <th>DATE</th>\n",
       "      <th></th>\n",
       "    </tr>\n",
       "  </thead>\n",
       "  <tbody>\n",
       "    <tr>\n",
       "      <th>1948-01-01</th>\n",
       "      <td>3.4</td>\n",
       "    </tr>\n",
       "    <tr>\n",
       "      <th>1948-02-01</th>\n",
       "      <td>3.8</td>\n",
       "    </tr>\n",
       "    <tr>\n",
       "      <th>1948-03-01</th>\n",
       "      <td>4.0</td>\n",
       "    </tr>\n",
       "    <tr>\n",
       "      <th>1948-04-01</th>\n",
       "      <td>3.9</td>\n",
       "    </tr>\n",
       "    <tr>\n",
       "      <th>1948-05-01</th>\n",
       "      <td>3.5</td>\n",
       "    </tr>\n",
       "  </tbody>\n",
       "</table>\n",
       "</div>"
      ],
      "text/plain": [
       "            VALUE\n",
       "DATE             \n",
       "1948-01-01    3.4\n",
       "1948-02-01    3.8\n",
       "1948-03-01    4.0\n",
       "1948-04-01    3.9\n",
       "1948-05-01    3.5"
      ]
     },
     "execution_count": 31,
     "metadata": {},
     "output_type": "execute_result"
    }
   ],
   "source": [
    "data.head()  # A useful method to get a quick look at a data frame"
   ]
  },
  {
   "cell_type": "code",
   "execution_count": 32,
   "metadata": {},
   "outputs": [
    {
     "data": {
      "text/html": [
       "<div>\n",
       "<style scoped>\n",
       "    .dataframe tbody tr th:only-of-type {\n",
       "        vertical-align: middle;\n",
       "    }\n",
       "\n",
       "    .dataframe tbody tr th {\n",
       "        vertical-align: top;\n",
       "    }\n",
       "\n",
       "    .dataframe thead th {\n",
       "        text-align: right;\n",
       "    }\n",
       "</style>\n",
       "<table border=\"1\" class=\"dataframe\">\n",
       "  <thead>\n",
       "    <tr style=\"text-align: right;\">\n",
       "      <th></th>\n",
       "      <th>VALUE</th>\n",
       "    </tr>\n",
       "  </thead>\n",
       "  <tbody>\n",
       "    <tr>\n",
       "      <th>count</th>\n",
       "      <td>870.0</td>\n",
       "    </tr>\n",
       "    <tr>\n",
       "      <th>mean</th>\n",
       "      <td>5.8</td>\n",
       "    </tr>\n",
       "    <tr>\n",
       "      <th>std</th>\n",
       "      <td>1.7</td>\n",
       "    </tr>\n",
       "    <tr>\n",
       "      <th>min</th>\n",
       "      <td>2.5</td>\n",
       "    </tr>\n",
       "    <tr>\n",
       "      <th>25%</th>\n",
       "      <td>4.5</td>\n",
       "    </tr>\n",
       "    <tr>\n",
       "      <th>50%</th>\n",
       "      <td>5.5</td>\n",
       "    </tr>\n",
       "    <tr>\n",
       "      <th>75%</th>\n",
       "      <td>6.8</td>\n",
       "    </tr>\n",
       "    <tr>\n",
       "      <th>max</th>\n",
       "      <td>14.7</td>\n",
       "    </tr>\n",
       "  </tbody>\n",
       "</table>\n",
       "</div>"
      ],
      "text/plain": [
       "       VALUE\n",
       "count  870.0\n",
       "mean     5.8\n",
       "std      1.7\n",
       "min      2.5\n",
       "25%      4.5\n",
       "50%      5.5\n",
       "75%      6.8\n",
       "max     14.7"
      ]
     },
     "execution_count": 32,
     "metadata": {},
     "output_type": "execute_result"
    }
   ],
   "source": [
    "pd.set_option('precision', 1)\n",
    "data.describe()  # Your output might differ slightly"
   ]
  },
  {
   "cell_type": "markdown",
   "metadata": {},
   "source": [
    "We can also plot the unemployment rate from 2006 to 2012 as follows"
   ]
  },
  {
   "cell_type": "code",
   "execution_count": 33,
   "metadata": {},
   "outputs": [
    {
     "data": {
      "image/png": "[encoded data removed]",
      "text/plain": [
       "<Figure size 432x288 with 1 Axes>"
      ]
     },
     "metadata": {
      "needs_background": "light"
     },
     "output_type": "display_data"
    }
   ],
   "source": [
    "ax = data['2006':'2012'].plot(title='US Unemployment Rate', legend=False)\n",
    "ax.set_xlabel('year', fontsize=12)\n",
    "ax.set_ylabel('%', fontsize=12)\n",
    "plt.show()"
   ]
  },
  {
   "cell_type": "markdown",
   "metadata": {},
   "source": [
    "Note that pandas offers many other file type alternatives.\n",
    "\n",
    "Pandas has [a wide\n",
    "variety](https://pandas.pydata.org/pandas-docs/stable/user_guide/io.html)\n",
    "of top-level methods that we can use to read, excel, json, parquet or\n",
    "plug straight into a database server.\n",
    "\n",
    "### Using pandas_datareader to Access Data\n",
    "\n",
    "The maker of pandas has also authored a library called\n",
    "`pandas_datareader` that gives programmatic access to many\n",
    "data sources straight from the Jupyter notebook.\n",
    "\n",
    "While some sources require an access key, many of the most important\n",
    "(e.g., FRED, [OECD](https://data.oecd.org/),\n",
    "[EUROSTAT](https://ec.europa.eu/eurostat/data/database) and the World\n",
    "Bank) are free to use.\n",
    "\n",
    "For now let\\'s work through one example of downloading and plotting data\n",
    "--- this time from the World Bank.\n",
    "\n",
    "The World Bank [collects and organizes\n",
    "data](http://data.worldbank.org/indicator) on a huge range of\n",
    "indicators.\n",
    "\n",
    "For example,\n",
    "[here\\'s](http://data.worldbank.org/indicator/GC.DOD.TOTL.GD.ZS/countries)\n",
    "some data on government debt as a ratio to GDP.\n",
    "\n",
    "The next code example fetches the data for you and plots time series for\n",
    "the US and Australia"
   ]
  },
  {
   "cell_type": "code",
   "execution_count": 34,
   "metadata": {},
   "outputs": [
    {
     "name": "stderr",
     "output_type": "stream",
     "text": [
      "/home/choldgraf/anaconda/envs/dev/lib/python3.8/site-packages/pandas_datareader/compat/__init__.py:7: FutureWarning: pandas.util.testing is deprecated. Use the functions in the public API at pandas.testing instead.\n",
      "  from pandas.util.testing import assert_frame_equal\n"
     ]
    },
    {
     "data": {
      "image/png": "[encoded data removed]",
      "text/plain": [
       "<Figure size 432x288 with 1 Axes>"
      ]
     },
     "metadata": {
      "needs_background": "light"
     },
     "output_type": "display_data"
    }
   ],
   "source": [
    "from pandas_datareader import wb\n",
    "\n",
    "govt_debt = wb.download(indicator='GC.DOD.TOTL.GD.ZS', country=['US', 'AU'], start=2005, end=2016).stack().unstack(0)\n",
    "ind = govt_debt.index.droplevel(-1)\n",
    "govt_debt.index = ind\n",
    "ax = govt_debt.plot(lw=2)\n",
    "ax.set_xlabel('year', fontsize=12)\n",
    "plt.title(\"Government Debt to GDP (%)\")\n",
    "plt.show()"
   ]
  },
  {
   "cell_type": "markdown",
   "metadata": {},
   "source": [
    "The\n",
    "[documentation](https://pandas-datareader.readthedocs.io/en/latest/index.html)\n",
    "provides more details on how to access various data sources.\n",
    "\n",
    "## Exercises\n",
    "\n",
    "(pd_ex1)=\n",
    "\n",
    "### Exercise 1\n",
    "\n",
    "With these imports:"
   ]
  },
  {
   "cell_type": "code",
   "execution_count": 35,
   "metadata": {},
   "outputs": [],
   "source": [
    "import datetime as dt \n",
    "from pandas_datareader import data"
   ]
  },
  {
   "cell_type": "markdown",
   "metadata": {},
   "source": [
    "Write a program to calculate the percentage price change over 2019 for\n",
    "the following shares:"
   ]
  },
  {
   "cell_type": "code",
   "execution_count": 36,
   "metadata": {},
   "outputs": [],
   "source": [
    "ticker_list = {'INTC': 'Intel',\n",
    "               'MSFT': 'Microsoft',\n",
    "               'IBM': 'IBM',\n",
    "               'BHP': 'BHP',\n",
    "               'TM': 'Toyota',\n",
    "               'AAPL': 'Apple',\n",
    "               'AMZN': 'Amazon',\n",
    "               'BA': 'Boeing',\n",
    "               'QCOM': 'Qualcomm',\n",
    "               'KO': 'Coca-Cola',\n",
    "               'GOOG': 'Google',\n",
    "               'SNE': 'Sony',\n",
    "               'PTR': 'PetroChina'}"
   ]
  },
  {
   "cell_type": "markdown",
   "metadata": {},
   "source": [
    "Here\\'s the first part of the program"
   ]
  },
  {
   "cell_type": "code",
   "execution_count": 37,
   "metadata": {},
   "outputs": [],
   "source": [
    "def read_data(ticker_list,\n",
    "          start=dt.datetime(2019, 1, 2),\n",
    "          end=dt.datetime(2019, 12, 31)): \n",
    "    \"\"\"\n",
    "    This function reads in closing price data from Yahoo \n",
    "    for each tick in the ticker_list.\n",
    "    \"\"\"\n",
    "    ticker = pd.DataFrame()\n",
    "\n",
    "    for tick in ticker_list:\n",
    "        prices = data.DataReader(tick, 'yahoo', start, end)\n",
    "        closing_prices = prices['Close']\n",
    "        ticker[tick] = closing_prices\n",
    "\n",
    "    return ticker\n",
    "\n",
    "ticker = read_data(ticker_list)"
   ]
  },
  {
   "cell_type": "markdown",
   "metadata": {},
   "source": [
    "Complete the program to plot the result as a bar graph like this one:\n",
    "\n",
    "```{glue:} pandas_share_prices\n",
    "```\n",
    "\n",
    "(pd_ex2)=\n",
    "\n",
    "### Exercise 2\n",
    "\n",
    "Using the method `read_data` introduced in\n",
    "{ref}`Exercise 1 <pd_ex1>`, write a program to\n",
    "obtain year-on-year percentage change for the following indices:"
   ]
  },
  {
   "cell_type": "code",
   "execution_count": 38,
   "metadata": {},
   "outputs": [],
   "source": [
    "indices_list = {'^GSPC': 'S&P 500',\n",
    "               '^IXIC': 'NASDAQ',\n",
    "               '^DJI': 'Dow Jones',\n",
    "               '^N225': 'Nikkei'}"
   ]
  },
  {
   "cell_type": "markdown",
   "metadata": {},
   "source": [
    "Complete the program to show summary statistics and plot the result as a\n",
    "time series graph like this one:\n",
    "\n",
    "```{glue:} pandas_indices_pctchange\n",
    "```\n",
    "\n",
    "## Solutions\n",
    "\n",
    "### Exercise 1\n",
    "\n",
    "There are a few ways to approach this problem using Pandas to calculate\n",
    "the percentage change.\n",
    "\n",
    "First, you can extract the data and perform the calculation such as:"
   ]
  },
  {
   "cell_type": "code",
   "execution_count": 39,
   "metadata": {},
   "outputs": [
    {
     "data": {
      "text/plain": [
       "INTC    27.1\n",
       "MSFT    56.0\n",
       "IBM     16.3\n",
       "BHP     14.3\n",
       "TM      20.9\n",
       "AAPL    85.9\n",
       "AMZN    20.1\n",
       "BA       0.6\n",
       "QCOM    53.7\n",
       "KO      17.9\n",
       "GOOG    27.8\n",
       "SNE     39.6\n",
       "PTR    -17.4\n",
       "dtype: float64"
      ]
     },
     "execution_count": 39,
     "metadata": {},
     "output_type": "execute_result"
    }
   ],
   "source": [
    "p1 = ticker.iloc[0]    #Get the first set of prices as a Series\n",
    "p2 = ticker.iloc[-1]   #Get the last set of prices as a Series\n",
    "price_change = (p2 - p1) / p1 * 100\n",
    "price_change"
   ]
  },
  {
   "cell_type": "markdown",
   "metadata": {},
   "source": [
    "Alternatively you can use an inbuilt method `pct_change` and configure\n",
    "it to perform the correct calculation using `periods` argument."
   ]
  },
  {
   "cell_type": "code",
   "execution_count": 40,
   "metadata": {},
   "outputs": [
    {
     "data": {
      "text/plain": [
       "INTC    27.1\n",
       "MSFT    56.0\n",
       "IBM     16.3\n",
       "BHP     14.3\n",
       "TM      20.9\n",
       "AAPL    85.9\n",
       "AMZN    20.1\n",
       "BA       0.6\n",
       "QCOM    53.7\n",
       "KO      17.9\n",
       "GOOG    27.8\n",
       "SNE     39.6\n",
       "PTR    -17.4\n",
       "Name: 2019-12-31 00:00:00, dtype: float64"
      ]
     },
     "execution_count": 40,
     "metadata": {},
     "output_type": "execute_result"
    }
   ],
   "source": [
    "change = ticker.pct_change(periods=len(ticker)-1, axis='rows')*100\n",
    "price_change = change.iloc[-1]\n",
    "price_change"
   ]
  },
  {
   "cell_type": "markdown",
   "metadata": {},
   "source": [
    "Then to plot the chart"
   ]
  },
  {
   "cell_type": "code",
   "execution_count": 41,
   "metadata": {},
   "outputs": [
    {
     "data": {
      "image/png": "[encoded data removed]",
      "text/plain": [
       "<Figure size 432x288 with 1 Axes>"
      ]
     },
     "metadata": {
      "needs_background": "light"
     },
     "output_type": "display_data"
    }
   ],
   "source": [
    "price_change.sort_values(inplace=True)\n",
    "price_change = price_change.rename(index=ticker_list)\n",
    "fig, ax = plt.subplots()\n",
    "ax.set_xlabel('stock', fontsize=12)\n",
    "ax.set_ylabel('percentage change in price', fontsize=12)\n",
    "price_change.plot(kind='bar', ax=ax)\n",
    "plt.show()"
   ]
  },
  {
   "cell_type": "code",
   "execution_count": 42,
   "metadata": {
    "tags": [
     "remove-cell"
    ]
   },
   "outputs": [
    {
     "data": {
      "application/papermill.record/image/png": "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\n",
      "application/papermill.record/text/plain": "<Figure size 432x288 with 1 Axes>"
     },
     "metadata": {
      "scrapbook": {
       "mime_prefix": "application/papermill.record/",
       "name": "pandas_share_prices"
      }
     },
     "output_type": "display_data"
    }
   ],
   "source": [
    "from myst_nb import glue\n",
    "glue(\"pandas_share_prices\", fig, display=False)"
   ]
  },
  {
   "cell_type": "markdown",
   "metadata": {},
   "source": [
    "### Exercise 2\n",
    "\n",
    "Following the work you did in {ref}`Exercise 1 <pd_ex1>`, you can query the data using `read_data` by updating the\n",
    "start and end dates accordingly."
   ]
  },
  {
   "cell_type": "code",
   "execution_count": 43,
   "metadata": {},
   "outputs": [],
   "source": [
    "indices_data = read_data(\n",
    "        indices_list,\n",
    "        start=dt.datetime(1928, 1, 2),\n",
    "        end=dt.datetime(2020, 12, 31)\n",
    ")"
   ]
  },
  {
   "cell_type": "markdown",
   "metadata": {},
   "source": [
    "Then, extract the first and last set of prices per year as DataFrames\n",
    "and calculate the yearly returns such as:"
   ]
  },
  {
   "cell_type": "code",
   "execution_count": 44,
   "metadata": {},
   "outputs": [
    {
     "data": {
      "text/html": [
       "<div>\n",
       "<style scoped>\n",
       "    .dataframe tbody tr th:only-of-type {\n",
       "        vertical-align: middle;\n",
       "    }\n",
       "\n",
       "    .dataframe tbody tr th {\n",
       "        vertical-align: top;\n",
       "    }\n",
       "\n",
       "    .dataframe thead th {\n",
       "        text-align: right;\n",
       "    }\n",
       "</style>\n",
       "<table border=\"1\" class=\"dataframe\">\n",
       "  <thead>\n",
       "    <tr style=\"text-align: right;\">\n",
       "      <th></th>\n",
       "      <th>S&amp;P 500</th>\n",
       "      <th>NASDAQ</th>\n",
       "      <th>Dow Jones</th>\n",
       "      <th>Nikkei</th>\n",
       "    </tr>\n",
       "    <tr>\n",
       "      <th>Date</th>\n",
       "      <th></th>\n",
       "      <th></th>\n",
       "      <th></th>\n",
       "      <th></th>\n",
       "    </tr>\n",
       "  </thead>\n",
       "  <tbody>\n",
       "    <tr>\n",
       "      <th>1928</th>\n",
       "      <td>3.7e-01</td>\n",
       "      <td>NaN</td>\n",
       "      <td>NaN</td>\n",
       "      <td>NaN</td>\n",
       "    </tr>\n",
       "    <tr>\n",
       "      <th>1929</th>\n",
       "      <td>-1.4e-01</td>\n",
       "      <td>NaN</td>\n",
       "      <td>NaN</td>\n",
       "      <td>NaN</td>\n",
       "    </tr>\n",
       "    <tr>\n",
       "      <th>1930</th>\n",
       "      <td>-2.8e-01</td>\n",
       "      <td>NaN</td>\n",
       "      <td>NaN</td>\n",
       "      <td>NaN</td>\n",
       "    </tr>\n",
       "    <tr>\n",
       "      <th>1931</th>\n",
       "      <td>-4.9e-01</td>\n",
       "      <td>NaN</td>\n",
       "      <td>NaN</td>\n",
       "      <td>NaN</td>\n",
       "    </tr>\n",
       "    <tr>\n",
       "      <th>1932</th>\n",
       "      <td>-8.5e-02</td>\n",
       "      <td>NaN</td>\n",
       "      <td>NaN</td>\n",
       "      <td>NaN</td>\n",
       "    </tr>\n",
       "    <tr>\n",
       "      <th>...</th>\n",
       "      <td>...</td>\n",
       "      <td>...</td>\n",
       "      <td>...</td>\n",
       "      <td>...</td>\n",
       "    </tr>\n",
       "    <tr>\n",
       "      <th>2016</th>\n",
       "      <td>1.1e-01</td>\n",
       "      <td>9.8e-02</td>\n",
       "      <td>1.5e-01</td>\n",
       "      <td>3.6e-02</td>\n",
       "    </tr>\n",
       "    <tr>\n",
       "      <th>2017</th>\n",
       "      <td>1.8e-01</td>\n",
       "      <td>2.7e-01</td>\n",
       "      <td>2.4e-01</td>\n",
       "      <td>1.6e-01</td>\n",
       "    </tr>\n",
       "    <tr>\n",
       "      <th>2018</th>\n",
       "      <td>-7.0e-02</td>\n",
       "      <td>-5.3e-02</td>\n",
       "      <td>-6.0e-02</td>\n",
       "      <td>-1.5e-01</td>\n",
       "    </tr>\n",
       "    <tr>\n",
       "      <th>2019</th>\n",
       "      <td>2.9e-01</td>\n",
       "      <td>3.5e-01</td>\n",
       "      <td>2.2e-01</td>\n",
       "      <td>2.1e-01</td>\n",
       "    </tr>\n",
       "    <tr>\n",
       "      <th>2020</th>\n",
       "      <td>-2.7e-02</td>\n",
       "      <td>1.5e-01</td>\n",
       "      <td>-9.7e-02</td>\n",
       "      <td>-2.5e-02</td>\n",
       "    </tr>\n",
       "  </tbody>\n",
       "</table>\n",
       "<p>93 rows × 4 columns</p>\n",
       "</div>"
      ],
      "text/plain": [
       "      S&P 500   NASDAQ  Dow Jones   Nikkei\n",
       "Date                                      \n",
       "1928  3.7e-01      NaN        NaN      NaN\n",
       "1929 -1.4e-01      NaN        NaN      NaN\n",
       "1930 -2.8e-01      NaN        NaN      NaN\n",
       "1931 -4.9e-01      NaN        NaN      NaN\n",
       "1932 -8.5e-02      NaN        NaN      NaN\n",
       "...       ...      ...        ...      ...\n",
       "2016  1.1e-01  9.8e-02    1.5e-01  3.6e-02\n",
       "2017  1.8e-01  2.7e-01    2.4e-01  1.6e-01\n",
       "2018 -7.0e-02 -5.3e-02   -6.0e-02 -1.5e-01\n",
       "2019  2.9e-01  3.5e-01    2.2e-01  2.1e-01\n",
       "2020 -2.7e-02  1.5e-01   -9.7e-02 -2.5e-02\n",
       "\n",
       "[93 rows x 4 columns]"
      ]
     },
     "execution_count": 44,
     "metadata": {},
     "output_type": "execute_result"
    }
   ],
   "source": [
    "yearly_returns = pd.DataFrame()\n",
    "\n",
    "for index, name in indices_list.items():\n",
    "    p1 = indices_data.groupby(indices_data.index.year)[index].first()  # Get the first set of returns as a DataFrame\n",
    "    p2 = indices_data.groupby(indices_data.index.year)[index].last()   # Get the last set of returns as a DataFrame\n",
    "    returns = (p2 - p1) / p1\n",
    "    yearly_returns[name] = returns\n",
    "\n",
    "yearly_returns"
   ]
  },
  {
   "cell_type": "markdown",
   "metadata": {},
   "source": [
    "Next, you can obtain summary statistics by using the method `describe`."
   ]
  },
  {
   "cell_type": "code",
   "execution_count": 45,
   "metadata": {},
   "outputs": [
    {
     "data": {
      "text/html": [
       "<div>\n",
       "<style scoped>\n",
       "    .dataframe tbody tr th:only-of-type {\n",
       "        vertical-align: middle;\n",
       "    }\n",
       "\n",
       "    .dataframe tbody tr th {\n",
       "        vertical-align: top;\n",
       "    }\n",
       "\n",
       "    .dataframe thead th {\n",
       "        text-align: right;\n",
       "    }\n",
       "</style>\n",
       "<table border=\"1\" class=\"dataframe\">\n",
       "  <thead>\n",
       "    <tr style=\"text-align: right;\">\n",
       "      <th></th>\n",
       "      <th>S&amp;P 500</th>\n",
       "      <th>NASDAQ</th>\n",
       "      <th>Dow Jones</th>\n",
       "      <th>Nikkei</th>\n",
       "    </tr>\n",
       "  </thead>\n",
       "  <tbody>\n",
       "    <tr>\n",
       "      <th>count</th>\n",
       "      <td>9.3e+01</td>\n",
       "      <td>5.0e+01</td>\n",
       "      <td>3.6e+01</td>\n",
       "      <td>5.6e+01</td>\n",
       "    </tr>\n",
       "    <tr>\n",
       "      <th>mean</th>\n",
       "      <td>7.4e-02</td>\n",
       "      <td>1.2e-01</td>\n",
       "      <td>9.2e-02</td>\n",
       "      <td>7.7e-02</td>\n",
       "    </tr>\n",
       "    <tr>\n",
       "      <th>std</th>\n",
       "      <td>1.9e-01</td>\n",
       "      <td>2.4e-01</td>\n",
       "      <td>1.4e-01</td>\n",
       "      <td>2.4e-01</td>\n",
       "    </tr>\n",
       "    <tr>\n",
       "      <th>min</th>\n",
       "      <td>-4.9e-01</td>\n",
       "      <td>-4.0e-01</td>\n",
       "      <td>-3.3e-01</td>\n",
       "      <td>-4.0e-01</td>\n",
       "    </tr>\n",
       "    <tr>\n",
       "      <th>25%</th>\n",
       "      <td>-6.0e-02</td>\n",
       "      <td>-1.2e-02</td>\n",
       "      <td>4.2e-03</td>\n",
       "      <td>-8.1e-02</td>\n",
       "    </tr>\n",
       "    <tr>\n",
       "      <th>50%</th>\n",
       "      <td>9.9e-02</td>\n",
       "      <td>1.4e-01</td>\n",
       "      <td>8.9e-02</td>\n",
       "      <td>7.5e-02</td>\n",
       "    </tr>\n",
       "    <tr>\n",
       "      <th>75%</th>\n",
       "      <td>2.0e-01</td>\n",
       "      <td>2.7e-01</td>\n",
       "      <td>2.2e-01</td>\n",
       "      <td>2.1e-01</td>\n",
       "    </tr>\n",
       "    <tr>\n",
       "      <th>max</th>\n",
       "      <td>4.6e-01</td>\n",
       "      <td>8.4e-01</td>\n",
       "      <td>3.3e-01</td>\n",
       "      <td>9.2e-01</td>\n",
       "    </tr>\n",
       "  </tbody>\n",
       "</table>\n",
       "</div>"
      ],
      "text/plain": [
       "       S&P 500   NASDAQ  Dow Jones   Nikkei\n",
       "count  9.3e+01  5.0e+01    3.6e+01  5.6e+01\n",
       "mean   7.4e-02  1.2e-01    9.2e-02  7.7e-02\n",
       "std    1.9e-01  2.4e-01    1.4e-01  2.4e-01\n",
       "min   -4.9e-01 -4.0e-01   -3.3e-01 -4.0e-01\n",
       "25%   -6.0e-02 -1.2e-02    4.2e-03 -8.1e-02\n",
       "50%    9.9e-02  1.4e-01    8.9e-02  7.5e-02\n",
       "75%    2.0e-01  2.7e-01    2.2e-01  2.1e-01\n",
       "max    4.6e-01  8.4e-01    3.3e-01  9.2e-01"
      ]
     },
     "execution_count": 45,
     "metadata": {},
     "output_type": "execute_result"
    }
   ],
   "source": [
    "yearly_returns.describe()"
   ]
  },
  {
   "cell_type": "markdown",
   "metadata": {},
   "source": [
    "Then, to plot the chart"
   ]
  },
  {
   "cell_type": "code",
   "execution_count": 46,
   "metadata": {},
   "outputs": [
    {
     "data": {
      "image/png": "[encoded data removed]",
      "text/plain": [
       "<Figure size 432x288 with 4 Axes>"
      ]
     },
     "metadata": {
      "needs_background": "light"
     },
     "output_type": "display_data"
    }
   ],
   "source": [
    "fig, axes = plt.subplots(2, 2)\n",
    "\n",
    "for iter_, ax in enumerate(axes.flatten()):            # Flatten 2-D array to 1-D array\n",
    "    index_name = yearly_returns.columns[iter_]         # Get index name per iteration\n",
    "    ax.plot(yearly_returns[index_name])                # Plot pct change of yearly returns per index\n",
    "    ax.set_ylabel(\"percent change\", fontsize = 12)\n",
    "    ax.set_title(index_name)\n",
    "\n",
    "plt.tight_layout() "
   ]
  },
  {
   "cell_type": "code",
   "execution_count": 47,
   "metadata": {
    "tags": [
     "remove-cell"
    ]
   },
   "outputs": [
    {
     "data": {
      "application/papermill.record/image/png": "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\n",
      "application/papermill.record/text/plain": "<Figure size 432x288 with 4 Axes>"
     },
     "metadata": {
      "scrapbook": {
       "mime_prefix": "application/papermill.record/",
       "name": "pandas_indices_pctchange"
      }
     },
     "output_type": "display_data"
    }
   ],
   "source": [
    "from myst_nb import glue\n",
    "glue(\"pandas_indices_pctchange\", fig, display=False)"
   ]
  },
  {
   "cell_type": "markdown",
   "metadata": {},
   "source": [
    "**Footnotes**\n",
    "\n",
    "[^1]: Wikipedia defines munging as cleaning data from one raw form into a structured, purged one."
   ]
  }
 ],
 "metadata": {
  "kernelspec": {
   "display_name": "Python 3",
   "language": "python",
   "name": "python3"
  },
  "language_info": {
   "codemirror_mode": {
    "name": "ipython",
    "version": 3
   },
   "file_extension": ".py",
   "mimetype": "text/x-python",
   "name": "python",
   "nbconvert_exporter": "python",
   "pygments_lexer": "ipython3",
   "version": "3.8.0"
  }
 },
 "nbformat": 4,
 "nbformat_minor": 4
}
