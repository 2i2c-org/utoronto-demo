{
 "cells": [
  {
   "cell_type": "code",
   "execution_count": 1,
   "metadata": {
    "tags": [
     "remove-cell"
    ]
   },
   "outputs": [
    {
     "name": "stderr",
     "output_type": "stream",
     "text": [
      "/home/choldgraf/anaconda/envs/dev/lib/python3.7/site-packages/datascience/tables.py:17: MatplotlibDeprecationWarning: The 'warn' parameter of use() is deprecated since Matplotlib 3.1 and will be removed in 3.3.  If any parameter follows 'warn', they should be pass as keyword, not positionally.\n",
      "  matplotlib.use('agg', warn=False)\n",
      "/home/choldgraf/anaconda/envs/dev/lib/python3.7/site-packages/datascience/util.py:10: MatplotlibDeprecationWarning: The 'warn' parameter of use() is deprecated since Matplotlib 3.1 and will be removed in 3.3.  If any parameter follows 'warn', they should be pass as keyword, not positionally.\n",
      "  matplotlib.use('agg', warn=False)\n"
     ]
    }
   ],
   "source": [
    "from datascience import *\n",
    "%matplotlib inline\n",
    "path_data = '../data/'\n",
    "import matplotlib.pyplot as plots\n",
    "plots.style.use('fivethirtyeight')\n",
    "import numpy as np"
   ]
  },
  {
   "cell_type": "code",
   "execution_count": 2,
   "metadata": {
    "tags": [
     "remove-cell"
    ]
   },
   "outputs": [],
   "source": [
    "def bootstrap_median(original_sample, label, replications):\n",
    "    \n",
    "    \"\"\"Returns an array of bootstrapped sample medians:\n",
    "    original_sample: table containing the original sample\n",
    "    label: label of column containing the variable\n",
    "    replications: number of bootstrap samples\n",
    "    \"\"\"\n",
    "    \n",
    "    just_one_column = original_sample.select(label)\n",
    "    medians = make_array()\n",
    "    for i in np.arange(replications):\n",
    "        bootstrap_sample = just_one_column.sample()\n",
    "        resampled_median = percentile(50, bootstrap_sample.column(0))\n",
    "        medians = np.append(medians, resampled_median)\n",
    "        \n",
    "    return medians"
   ]
  },
  {
   "cell_type": "code",
   "execution_count": 3,
   "metadata": {
    "tags": [
     "remove-cell"
    ]
   },
   "outputs": [],
   "source": [
    "def bootstrap_mean(original_sample, label, replications):\n",
    "    \n",
    "    \"\"\"Returns an array of bootstrapped sample means:\n",
    "    original_sample: table containing the original sample\n",
    "    label: label of column containing the variable\n",
    "    replications: number of bootstrap samples\n",
    "    \"\"\"\n",
    "    \n",
    "    just_one_column = original_sample.select(label)\n",
    "    means = make_array()\n",
    "    for i in np.arange(replications):\n",
    "        bootstrap_sample = just_one_column.sample()\n",
    "        resampled_mean = np.mean(bootstrap_sample.column(0))\n",
    "        means = np.append(means, resampled_mean)\n",
    "        \n",
    "    return means"
   ]
  },
  {
   "cell_type": "code",
   "execution_count": 4,
   "metadata": {
    "tags": [
     "remove-cell"
    ]
   },
   "outputs": [],
   "source": [
    "def bootstrap_proportion(original_sample, label, replications):\n",
    "    \n",
    "    \"\"\"Returns an array of bootstrapped sample proportions:\n",
    "    original_sample: table containing the original sample\n",
    "    label: label of column containing the Boolean variable\n",
    "    replications: number of bootstrap samples\n",
    "    \"\"\"\n",
    "    \n",
    "    just_one_column = original_sample.select(label)\n",
    "    proportions = make_array()\n",
    "    for i in np.arange(replications):\n",
    "        bootstrap_sample = just_one_column.sample()\n",
    "        resample_array = bootstrap_sample.column(0)\n",
    "        resampled_proportion = np.count_nonzero(resample_array)/len(resample_array)\n",
    "        proportions = np.append(proportions, resampled_proportion)\n",
    "        \n",
    "    return proportions"
   ]
  },
  {
   "cell_type": "markdown",
   "metadata": {},
   "source": [
    "# Using Confidence Intervals\n",
    "A confidence interval has a single purpose – to estimate an unknown parameter based on data in a random sample. In the last section, we said that the interval (36%, 42%) was an approximate 95% confidence interval for the percent of smokers among mothers in the population. That was a formal way of saying that by our estimate, the percent of smokers among the mothers in the population was somewhere between 36% and 42%, and that our process of estimation is correct about 95% of the time.\n",
    "\n",
    "It is important to resist the impulse to use confidence intervals for other purposes. For example, recall that we calculated the interval (26.9 years, 27.6 years) as an approximate 95% confidence interval for the average age of mothers in the population. A dismayingly common misuse of the interval is to conclude that about 95% of the women were between 26.9 years and 27.6 years old. You don't need to know much about confidence intervals to see that this can't be right – you wouldn't expect 95% of mothers to all be within a few months of each other in age. Indeed, the histogram of the sampled ages shows quite a bit of variation.\n",
    "\n",
    "````{admonition} This week's lab\n",
    ":class: tip\n",
    "\n",
    "Click below for this week's lab. Laboratory content is more interactive,\n",
    "and allows students to explore on their own.\n",
    "\n",
    "```{link-button} https://utoronto.2i2c.cloud/hub/user-redirect/git-sync?repo=https://github.com/data-8/materials-sp20&subPath=materials/sp20/lab/lab07/lab07.ipynb\n",
    ":type: url\n",
    ":text: Week 07 lab\n",
    ":classes: btn-outline-primary btn-block\n",
    "```\n",
    "````"
   ]
  },
  {
   "cell_type": "code",
   "execution_count": 5,
   "metadata": {
    "collapsed": false,
    "jupyter": {
     "outputs_hidden": false
    }
   },
   "outputs": [],
   "source": [
    "baby = Table.read_table(path_data + 'baby.csv')"
   ]
  },
  {
   "cell_type": "code",
   "execution_count": 6,
   "metadata": {
    "collapsed": false,
    "jupyter": {
     "outputs_hidden": false
    }
   },
   "outputs": [
    {
     "data": {
      "image/png": "[encoded data removed]",
      "text/plain": [
       "<Figure size 432x288 with 1 Axes>"
      ]
     },
     "metadata": {},
     "output_type": "display_data"
    }
   ],
   "source": [
    "baby.select('Maternal Age').hist()"
   ]
  },
  {
   "cell_type": "markdown",
   "metadata": {},
   "source": [
    "A small percent of the sampled ages are in the (26.9, 27.6) interval, and you would expect a similar small percent in the population. The interval just estimates one number: the *average* of all the ages in the population."
   ]
  },
  {
   "cell_type": "markdown",
   "metadata": {},
   "source": [
    "However, estimating a parameter by confidence intervals does have an important use besides just telling us roughly how big the parameter is. "
   ]
  },
  {
   "cell_type": "markdown",
   "metadata": {},
   "source": [
    "## Using a Confidence Interval to Test Hypotheses\n",
    "Our approximate 95% confidence interval for the average age in the population goes from 26.9 years to 27.6 years. Suppose someone wants to test the following hypotheses:\n",
    "\n",
    "**Null hypothesis.** The average age in the population is 30 years.\n",
    "\n",
    "**Alternative hypothesis.** The average age in the population is not 30 years.\n",
    "\n",
    "Then, if you were using the 5% cutoff for the P-value, you would reject the null hypothesis. This is because 30 is not in the 95% confidence interval for the population average. At the 5% level of significance, 30 is not a plausible value for the population average.\n",
    "\n",
    "This use of confidence intervals is the result of a *duality* between confidence intervals and tests: if you are testing whether or not the population mean is a particular value *x*, and you use the 5% cutoff for the P-value, then you will reject the null hypothesis if *x* is not in your 95% confidence interval for the mean. \n",
    "\n",
    "This can be established by statistical theory. In practice, it just boils down to checking whether or not the value specified in the null hypothesis lies in the confidence interval.\n",
    "\n",
    "If you were using the 1% cutoff for the P-value, you would have to check if the value specified in the null hypothesis lies in a 99% confidence interval for the population mean.\n",
    "\n",
    "To a rough approximation, these statements are also true for population proportions, provided the sample is large."
   ]
  },
  {
   "cell_type": "markdown",
   "metadata": {},
   "source": [
    "While we now have a way of using confidence intervals to test a particular kind of hypothesis, you might wonder about the value of testing whether or not the average age in a population is equal to 30. Indeed, the value isn't clear. But there are some situations in which a test of this kind of hypothesis is both natural and useful."
   ]
  },
  {
   "cell_type": "markdown",
   "metadata": {},
   "source": [
    "We will study this in the context of data that are a subset of the information gathered in a randomized controlled trial about treatments for Hodgkin's disease. Hodgkin's disease is a cancer that typically affects young people. The disease is curable but the treatment can be very harsh. The purpose of the trial was to come up with dosage that would cure the cancer but minimize the adverse effects on the patients. \n",
    "\n",
    "This table ``hodgkins`` contains data on the effect that the treatment had on the lungs of 22 patients. The columns are:\n",
    "\n",
    "- Height in cm\n",
    "- A measure of radiation to the mantle (neck, chest, under arms)\n",
    "- A measure of chemotherapy\n",
    "- A score of the health of the lungs at baseline, that is, at the start of the treatment; higher scores correspond to more healthy lungs\n",
    "- The same score of the health of the lungs, 15 months after treatment"
   ]
  },
  {
   "cell_type": "code",
   "execution_count": 7,
   "metadata": {},
   "outputs": [],
   "source": [
    "hodgkins = Table.read_table(path_data + 'hodgkins.csv')"
   ]
  },
  {
   "cell_type": "code",
   "execution_count": 8,
   "metadata": {
    "collapsed": false,
    "jupyter": {
     "outputs_hidden": false
    }
   },
   "outputs": [
    {
     "data": {
      "text/html": [
       "<table border=\"1\" class=\"dataframe\">\n",
       "    <thead>\n",
       "        <tr>\n",
       "            <th>height</th> <th>rad</th> <th>chemo</th> <th>base</th> <th>month15</th>\n",
       "        </tr>\n",
       "    </thead>\n",
       "    <tbody>\n",
       "        <tr>\n",
       "            <td>164   </td> <td>679 </td> <td>180  </td> <td>160.57</td> <td>87.77  </td>\n",
       "        </tr>\n",
       "        <tr>\n",
       "            <td>168   </td> <td>311 </td> <td>180  </td> <td>98.24 </td> <td>67.62  </td>\n",
       "        </tr>\n",
       "        <tr>\n",
       "            <td>173   </td> <td>388 </td> <td>239  </td> <td>129.04</td> <td>133.33 </td>\n",
       "        </tr>\n",
       "        <tr>\n",
       "            <td>157   </td> <td>370 </td> <td>168  </td> <td>85.41 </td> <td>81.28  </td>\n",
       "        </tr>\n",
       "        <tr>\n",
       "            <td>160   </td> <td>468 </td> <td>151  </td> <td>67.94 </td> <td>79.26  </td>\n",
       "        </tr>\n",
       "        <tr>\n",
       "            <td>170   </td> <td>341 </td> <td>96   </td> <td>150.51</td> <td>80.97  </td>\n",
       "        </tr>\n",
       "        <tr>\n",
       "            <td>163   </td> <td>453 </td> <td>134  </td> <td>129.88</td> <td>69.24  </td>\n",
       "        </tr>\n",
       "        <tr>\n",
       "            <td>175   </td> <td>529 </td> <td>264  </td> <td>87.45 </td> <td>56.48  </td>\n",
       "        </tr>\n",
       "        <tr>\n",
       "            <td>185   </td> <td>392 </td> <td>240  </td> <td>149.84</td> <td>106.99 </td>\n",
       "        </tr>\n",
       "        <tr>\n",
       "            <td>178   </td> <td>479 </td> <td>216  </td> <td>92.24 </td> <td>73.43  </td>\n",
       "        </tr>\n",
       "    </tbody>\n",
       "</table>\n",
       "<p>... (12 rows omitted)</p>"
      ],
      "text/plain": [
       "height | rad  | chemo | base   | month15\n",
       "164    | 679  | 180   | 160.57 | 87.77\n",
       "168    | 311  | 180   | 98.24  | 67.62\n",
       "173    | 388  | 239   | 129.04 | 133.33\n",
       "157    | 370  | 168   | 85.41  | 81.28\n",
       "160    | 468  | 151   | 67.94  | 79.26\n",
       "170    | 341  | 96    | 150.51 | 80.97\n",
       "163    | 453  | 134   | 129.88 | 69.24\n",
       "175    | 529  | 264   | 87.45  | 56.48\n",
       "185    | 392  | 240   | 149.84 | 106.99\n",
       "178    | 479  | 216   | 92.24  | 73.43\n",
       "... (12 rows omitted)"
      ]
     },
     "execution_count": 8,
     "metadata": {},
     "output_type": "execute_result"
    }
   ],
   "source": [
    "hodgkins"
   ]
  },
  {
   "cell_type": "markdown",
   "metadata": {},
   "source": [
    "We will compare the baseline and 15-month scores. As each row corresponds to one patient, we say that the sample of baseline scores and the sample of 15-month scores are *paired* - they are not just two sets of 22 values each, but 22 pairs of values, one for each patient.\n",
    "\n",
    "At a glance, you can see that the 15-month scores tend to be lower than the baseline scores – the sampled patients' lungs seem to be doing worse 15 months after the treatment. This is confirmed by the mostly positive values in the column `drop`, the amount by which the score dropped from baseline to 15 months."
   ]
  },
  {
   "cell_type": "code",
   "execution_count": 9,
   "metadata": {},
   "outputs": [],
   "source": [
    "hodgkins = hodgkins.with_column(\n",
    "    'drop', hodgkins.column('base') - hodgkins.column('month15')\n",
    ")"
   ]
  },
  {
   "cell_type": "code",
   "execution_count": 10,
   "metadata": {
    "collapsed": false,
    "jupyter": {
     "outputs_hidden": false
    }
   },
   "outputs": [
    {
     "data": {
      "text/html": [
       "<table border=\"1\" class=\"dataframe\">\n",
       "    <thead>\n",
       "        <tr>\n",
       "            <th>height</th> <th>rad</th> <th>chemo</th> <th>base</th> <th>month15</th> <th>drop</th>\n",
       "        </tr>\n",
       "    </thead>\n",
       "    <tbody>\n",
       "        <tr>\n",
       "            <td>164   </td> <td>679 </td> <td>180  </td> <td>160.57</td> <td>87.77  </td> <td>72.8  </td>\n",
       "        </tr>\n",
       "        <tr>\n",
       "            <td>168   </td> <td>311 </td> <td>180  </td> <td>98.24 </td> <td>67.62  </td> <td>30.62 </td>\n",
       "        </tr>\n",
       "        <tr>\n",
       "            <td>173   </td> <td>388 </td> <td>239  </td> <td>129.04</td> <td>133.33 </td> <td>-4.29 </td>\n",
       "        </tr>\n",
       "        <tr>\n",
       "            <td>157   </td> <td>370 </td> <td>168  </td> <td>85.41 </td> <td>81.28  </td> <td>4.13  </td>\n",
       "        </tr>\n",
       "        <tr>\n",
       "            <td>160   </td> <td>468 </td> <td>151  </td> <td>67.94 </td> <td>79.26  </td> <td>-11.32</td>\n",
       "        </tr>\n",
       "        <tr>\n",
       "            <td>170   </td> <td>341 </td> <td>96   </td> <td>150.51</td> <td>80.97  </td> <td>69.54 </td>\n",
       "        </tr>\n",
       "        <tr>\n",
       "            <td>163   </td> <td>453 </td> <td>134  </td> <td>129.88</td> <td>69.24  </td> <td>60.64 </td>\n",
       "        </tr>\n",
       "        <tr>\n",
       "            <td>175   </td> <td>529 </td> <td>264  </td> <td>87.45 </td> <td>56.48  </td> <td>30.97 </td>\n",
       "        </tr>\n",
       "        <tr>\n",
       "            <td>185   </td> <td>392 </td> <td>240  </td> <td>149.84</td> <td>106.99 </td> <td>42.85 </td>\n",
       "        </tr>\n",
       "        <tr>\n",
       "            <td>178   </td> <td>479 </td> <td>216  </td> <td>92.24 </td> <td>73.43  </td> <td>18.81 </td>\n",
       "        </tr>\n",
       "    </tbody>\n",
       "</table>\n",
       "<p>... (12 rows omitted)</p>"
      ],
      "text/plain": [
       "height | rad  | chemo | base   | month15 | drop\n",
       "164    | 679  | 180   | 160.57 | 87.77   | 72.8\n",
       "168    | 311  | 180   | 98.24  | 67.62   | 30.62\n",
       "173    | 388  | 239   | 129.04 | 133.33  | -4.29\n",
       "157    | 370  | 168   | 85.41  | 81.28   | 4.13\n",
       "160    | 468  | 151   | 67.94  | 79.26   | -11.32\n",
       "170    | 341  | 96    | 150.51 | 80.97   | 69.54\n",
       "163    | 453  | 134   | 129.88 | 69.24   | 60.64\n",
       "175    | 529  | 264   | 87.45  | 56.48   | 30.97\n",
       "185    | 392  | 240   | 149.84 | 106.99  | 42.85\n",
       "178    | 479  | 216   | 92.24  | 73.43   | 18.81\n",
       "... (12 rows omitted)"
      ]
     },
     "execution_count": 10,
     "metadata": {},
     "output_type": "execute_result"
    }
   ],
   "source": [
    "hodgkins"
   ]
  },
  {
   "cell_type": "code",
   "execution_count": 11,
   "metadata": {
    "collapsed": false,
    "jupyter": {
     "outputs_hidden": false
    }
   },
   "outputs": [
    {
     "data": {
      "image/png": "[encoded data removed]",
      "text/plain": [
       "<Figure size 432x288 with 1 Axes>"
      ]
     },
     "metadata": {},
     "output_type": "display_data"
    }
   ],
   "source": [
    "hodgkins.select('drop').hist(bins=np.arange(-20, 81, 20))"
   ]
  },
  {
   "cell_type": "code",
   "execution_count": 12,
   "metadata": {
    "collapsed": false,
    "jupyter": {
     "outputs_hidden": false
    }
   },
   "outputs": [
    {
     "data": {
      "text/plain": [
       "28.615909090909096"
      ]
     },
     "execution_count": 12,
     "metadata": {},
     "output_type": "execute_result"
    }
   ],
   "source": [
    "np.mean(hodgkins.column('drop'))"
   ]
  },
  {
   "cell_type": "markdown",
   "metadata": {},
   "source": [
    "But could this be the result of chance variation? It really doesn't seem so, but the data are from a random sample. Could it be that in the entire population of patients, the average drop is just 0?\n",
    "\n",
    "To answer this, we can set up two hypotheses:\n",
    "\n",
    "**Null hypothesis.** In the population, the average drop is 0.\n",
    "\n",
    "**Alternative hypothesis.** In the population, the average drop is not 0.\n",
    "\n",
    "To test this hypothesis with a 1% cutoff for the P-value, let's construct an approximate 99% confidence interval for the average drop in the population."
   ]
  },
  {
   "cell_type": "code",
   "execution_count": 13,
   "metadata": {
    "collapsed": false,
    "jupyter": {
     "outputs_hidden": false
    }
   },
   "outputs": [
    {
     "data": {
      "text/plain": [
       "array([16.83045455, 40.87863636])"
      ]
     },
     "execution_count": 13,
     "metadata": {},
     "output_type": "execute_result"
    }
   ],
   "source": [
    "bstrap_means = bootstrap_mean(hodgkins, 'drop', 10000)\n",
    "\n",
    "left = percentile(0.5, bstrap_means)\n",
    "right = percentile(99.5, bstrap_means)\n",
    "\n",
    "make_array(left, right)"
   ]
  },
  {
   "cell_type": "code",
   "execution_count": 14,
   "metadata": {
    "collapsed": false,
    "jupyter": {
     "outputs_hidden": false
    }
   },
   "outputs": [
    {
     "data": {
      "image/png": "[encoded data removed]",
      "text/plain": [
       "<Figure size 432x288 with 1 Axes>"
      ]
     },
     "metadata": {},
     "output_type": "display_data"
    }
   ],
   "source": [
    "resampled_means = Table().with_column(\n",
    "    'Bootstrap Sample Mean', bstrap_means\n",
    ")\n",
    "resampled_means.hist()\n",
    "plots.plot(make_array(left, right), make_array(0, 0), color='yellow', lw=8);"
   ]
  },
  {
   "cell_type": "markdown",
   "metadata": {},
   "source": [
    "The 99% confidence interval for the average drop in the population goes from about 17 to about 40. The interval doesn't contain 0. So we reject the null hypothesis.\n",
    "\n",
    "But notice that we have done better than simply concluding that the average drop in the population isn't 0. We have estimated how big the average drop is. That's a more useful result than just saying, \"It's not 0.\"\n",
    "\n",
    "**A note on accuracy.** Our confidence interval is quite wide, for two main reasons:\n",
    "- The confidence level is high (99%).\n",
    "- The sample size is relatively small compared to those in our earlier examples.\n",
    "\n",
    "In the next chapter, we will examine how the sample size affects accuracy. We will also examine how the empirical distributions of sample means so often come out bell shaped even though the distributions of the underlying data are not bell shaped at all."
   ]
  },
  {
   "cell_type": "markdown",
   "metadata": {},
   "source": [
    "## Endnote\n",
    "The terminology of a field usually comes from the leading researchers in that field. [Brad Efron](https://en.wikipedia.org/wiki/Bradley_Efron), who first proposed the bootstrap technique, used a term that has [American origins](https://en.wikipedia.org/wiki/Bootstrapping). Not to be outdone, Chinese statisticians have [proposed their own method](http://econpapers.repec.org/article/eeestapro/v_3a37_3ay_3a1998_3ai_3a4_3ap_3a321-329.htm)."
   ]
  },
  {
   "cell_type": "code",
   "execution_count": null,
   "metadata": {
    "collapsed": true,
    "jupyter": {
     "outputs_hidden": true
    }
   },
   "outputs": [],
   "source": []
  }
 ],
 "metadata": {
  "anaconda-cloud": {},
  "kernelspec": {
   "display_name": "Python 3",
   "language": "python",
   "name": "python3"
  },
  "language_info": {
   "codemirror_mode": {
    "name": "ipython",
    "version": 3
   },
   "file_extension": ".py",
   "mimetype": "text/x-python",
   "name": "python",
   "nbconvert_exporter": "python",
   "pygments_lexer": "ipython3",
   "version": "3.8.0"
  }
 },
 "nbformat": 4,
 "nbformat_minor": 4
}
